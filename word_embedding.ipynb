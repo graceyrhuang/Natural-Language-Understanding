{
  "nbformat": 4,
  "nbformat_minor": 0,
  "metadata": {
    "kernelspec": {
      "display_name": "Python 3",
      "language": "python",
      "name": "python3"
    },
    "language_info": {
      "codemirror_mode": {
        "name": "ipython",
        "version": 3
      },
      "file_extension": ".py",
      "mimetype": "text/x-python",
      "name": "python",
      "nbconvert_exporter": "python",
      "pygments_lexer": "ipython3",
      "version": "3.7.3"
    },
    "colab": {
      "name": "hw3_solution.ipynb",
      "provenance": [],
      "collapsed_sections": []
    },
    "widgets": {
      "application/vnd.jupyter.widget-state+json": {
        "21d1ca181adc4ee7a64f8a1745f67e3e": {
          "model_module": "@jupyter-widgets/controls",
          "model_name": "HBoxModel",
          "state": {
            "_view_name": "HBoxView",
            "_dom_classes": [],
            "_model_name": "HBoxModel",
            "_view_module": "@jupyter-widgets/controls",
            "_model_module_version": "1.5.0",
            "_view_count": null,
            "_view_module_version": "1.5.0",
            "box_style": "",
            "layout": "IPY_MODEL_41d7cfc9a9cf408aa1a93b60f0b9127b",
            "_model_module": "@jupyter-widgets/controls",
            "children": [
              "IPY_MODEL_f4188e6886494b1c91158fe29a40fa4c",
              "IPY_MODEL_679b811e14e14a679d58d33268e04ab0"
            ]
          }
        },
        "41d7cfc9a9cf408aa1a93b60f0b9127b": {
          "model_module": "@jupyter-widgets/base",
          "model_name": "LayoutModel",
          "state": {
            "_view_name": "LayoutView",
            "grid_template_rows": null,
            "right": null,
            "justify_content": null,
            "_view_module": "@jupyter-widgets/base",
            "overflow": null,
            "_model_module_version": "1.2.0",
            "_view_count": null,
            "flex_flow": null,
            "width": null,
            "min_width": null,
            "border": null,
            "align_items": null,
            "bottom": null,
            "_model_module": "@jupyter-widgets/base",
            "top": null,
            "grid_column": null,
            "overflow_y": null,
            "overflow_x": null,
            "grid_auto_flow": null,
            "grid_area": null,
            "grid_template_columns": null,
            "flex": null,
            "_model_name": "LayoutModel",
            "justify_items": null,
            "grid_row": null,
            "max_height": null,
            "align_content": null,
            "visibility": null,
            "align_self": null,
            "height": null,
            "min_height": null,
            "padding": null,
            "grid_auto_rows": null,
            "grid_gap": null,
            "max_width": null,
            "order": null,
            "_view_module_version": "1.2.0",
            "grid_template_areas": null,
            "object_position": null,
            "object_fit": null,
            "grid_auto_columns": null,
            "margin": null,
            "display": null,
            "left": null
          }
        },
        "f4188e6886494b1c91158fe29a40fa4c": {
          "model_module": "@jupyter-widgets/controls",
          "model_name": "IntProgressModel",
          "state": {
            "_view_name": "ProgressView",
            "style": "IPY_MODEL_62faa64db2db4e3aab896083d95d24af",
            "_dom_classes": [],
            "description": "",
            "_model_name": "IntProgressModel",
            "bar_style": "success",
            "max": 11855,
            "_view_module": "@jupyter-widgets/controls",
            "_model_module_version": "1.5.0",
            "value": 11855,
            "_view_count": null,
            "_view_module_version": "1.5.0",
            "orientation": "horizontal",
            "min": 0,
            "description_tooltip": null,
            "_model_module": "@jupyter-widgets/controls",
            "layout": "IPY_MODEL_f1d917171df24ff68f0626e2b5c6b696"
          }
        },
        "679b811e14e14a679d58d33268e04ab0": {
          "model_module": "@jupyter-widgets/controls",
          "model_name": "HTMLModel",
          "state": {
            "_view_name": "HTMLView",
            "style": "IPY_MODEL_9bf81ec39ff24425b319fb4523cc19d0",
            "_dom_classes": [],
            "description": "",
            "_model_name": "HTMLModel",
            "placeholder": "​",
            "_view_module": "@jupyter-widgets/controls",
            "_model_module_version": "1.5.0",
            "value": "100% 11855/11855 [00:01&lt;00:00, 6528.94it/s]",
            "_view_count": null,
            "_view_module_version": "1.5.0",
            "description_tooltip": null,
            "_model_module": "@jupyter-widgets/controls",
            "layout": "IPY_MODEL_ec95ee402da14f2ebd0bd957923d1077"
          }
        },
        "62faa64db2db4e3aab896083d95d24af": {
          "model_module": "@jupyter-widgets/controls",
          "model_name": "ProgressStyleModel",
          "state": {
            "_view_name": "StyleView",
            "_model_name": "ProgressStyleModel",
            "description_width": "",
            "_view_module": "@jupyter-widgets/base",
            "_model_module_version": "1.5.0",
            "_view_count": null,
            "_view_module_version": "1.2.0",
            "bar_color": null,
            "_model_module": "@jupyter-widgets/controls"
          }
        },
        "f1d917171df24ff68f0626e2b5c6b696": {
          "model_module": "@jupyter-widgets/base",
          "model_name": "LayoutModel",
          "state": {
            "_view_name": "LayoutView",
            "grid_template_rows": null,
            "right": null,
            "justify_content": null,
            "_view_module": "@jupyter-widgets/base",
            "overflow": null,
            "_model_module_version": "1.2.0",
            "_view_count": null,
            "flex_flow": null,
            "width": null,
            "min_width": null,
            "border": null,
            "align_items": null,
            "bottom": null,
            "_model_module": "@jupyter-widgets/base",
            "top": null,
            "grid_column": null,
            "overflow_y": null,
            "overflow_x": null,
            "grid_auto_flow": null,
            "grid_area": null,
            "grid_template_columns": null,
            "flex": null,
            "_model_name": "LayoutModel",
            "justify_items": null,
            "grid_row": null,
            "max_height": null,
            "align_content": null,
            "visibility": null,
            "align_self": null,
            "height": null,
            "min_height": null,
            "padding": null,
            "grid_auto_rows": null,
            "grid_gap": null,
            "max_width": null,
            "order": null,
            "_view_module_version": "1.2.0",
            "grid_template_areas": null,
            "object_position": null,
            "object_fit": null,
            "grid_auto_columns": null,
            "margin": null,
            "display": null,
            "left": null
          }
        },
        "9bf81ec39ff24425b319fb4523cc19d0": {
          "model_module": "@jupyter-widgets/controls",
          "model_name": "DescriptionStyleModel",
          "state": {
            "_view_name": "StyleView",
            "_model_name": "DescriptionStyleModel",
            "description_width": "",
            "_view_module": "@jupyter-widgets/base",
            "_model_module_version": "1.5.0",
            "_view_count": null,
            "_view_module_version": "1.2.0",
            "_model_module": "@jupyter-widgets/controls"
          }
        },
        "ec95ee402da14f2ebd0bd957923d1077": {
          "model_module": "@jupyter-widgets/base",
          "model_name": "LayoutModel",
          "state": {
            "_view_name": "LayoutView",
            "grid_template_rows": null,
            "right": null,
            "justify_content": null,
            "_view_module": "@jupyter-widgets/base",
            "overflow": null,
            "_model_module_version": "1.2.0",
            "_view_count": null,
            "flex_flow": null,
            "width": null,
            "min_width": null,
            "border": null,
            "align_items": null,
            "bottom": null,
            "_model_module": "@jupyter-widgets/base",
            "top": null,
            "grid_column": null,
            "overflow_y": null,
            "overflow_x": null,
            "grid_auto_flow": null,
            "grid_area": null,
            "grid_template_columns": null,
            "flex": null,
            "_model_name": "LayoutModel",
            "justify_items": null,
            "grid_row": null,
            "max_height": null,
            "align_content": null,
            "visibility": null,
            "align_self": null,
            "height": null,
            "min_height": null,
            "padding": null,
            "grid_auto_rows": null,
            "grid_gap": null,
            "max_width": null,
            "order": null,
            "_view_module_version": "1.2.0",
            "grid_template_areas": null,
            "object_position": null,
            "object_fit": null,
            "grid_auto_columns": null,
            "margin": null,
            "display": null,
            "left": null
          }
        },
        "cfbfc6c535494a2dbaac9be5824cd5d6": {
          "model_module": "@jupyter-widgets/controls",
          "model_name": "HBoxModel",
          "state": {
            "_view_name": "HBoxView",
            "_dom_classes": [],
            "_model_name": "HBoxModel",
            "_view_module": "@jupyter-widgets/controls",
            "_model_module_version": "1.5.0",
            "_view_count": null,
            "_view_module_version": "1.5.0",
            "box_style": "",
            "layout": "IPY_MODEL_9628bb437ca94535bb31c5588ea0a17a",
            "_model_module": "@jupyter-widgets/controls",
            "children": [
              "IPY_MODEL_e09eeb3896ca4ba1827527253618a148",
              "IPY_MODEL_7cf1db2644dd47d9bf6c23bbe500956f"
            ]
          }
        },
        "9628bb437ca94535bb31c5588ea0a17a": {
          "model_module": "@jupyter-widgets/base",
          "model_name": "LayoutModel",
          "state": {
            "_view_name": "LayoutView",
            "grid_template_rows": null,
            "right": null,
            "justify_content": null,
            "_view_module": "@jupyter-widgets/base",
            "overflow": null,
            "_model_module_version": "1.2.0",
            "_view_count": null,
            "flex_flow": null,
            "width": null,
            "min_width": null,
            "border": null,
            "align_items": null,
            "bottom": null,
            "_model_module": "@jupyter-widgets/base",
            "top": null,
            "grid_column": null,
            "overflow_y": null,
            "overflow_x": null,
            "grid_auto_flow": null,
            "grid_area": null,
            "grid_template_columns": null,
            "flex": null,
            "_model_name": "LayoutModel",
            "justify_items": null,
            "grid_row": null,
            "max_height": null,
            "align_content": null,
            "visibility": null,
            "align_self": null,
            "height": null,
            "min_height": null,
            "padding": null,
            "grid_auto_rows": null,
            "grid_gap": null,
            "max_width": null,
            "order": null,
            "_view_module_version": "1.2.0",
            "grid_template_areas": null,
            "object_position": null,
            "object_fit": null,
            "grid_auto_columns": null,
            "margin": null,
            "display": null,
            "left": null
          }
        },
        "e09eeb3896ca4ba1827527253618a148": {
          "model_module": "@jupyter-widgets/controls",
          "model_name": "IntProgressModel",
          "state": {
            "_view_name": "ProgressView",
            "style": "IPY_MODEL_6f4affa4966a4ab5af1ce4a799038fef",
            "_dom_classes": [],
            "description": "",
            "_model_name": "IntProgressModel",
            "bar_style": "success",
            "max": 10000,
            "_view_module": "@jupyter-widgets/controls",
            "_model_module_version": "1.5.0",
            "value": 10000,
            "_view_count": null,
            "_view_module_version": "1.5.0",
            "orientation": "horizontal",
            "min": 0,
            "description_tooltip": null,
            "_model_module": "@jupyter-widgets/controls",
            "layout": "IPY_MODEL_4b462118b112456db1f114b6fc59718e"
          }
        },
        "7cf1db2644dd47d9bf6c23bbe500956f": {
          "model_module": "@jupyter-widgets/controls",
          "model_name": "HTMLModel",
          "state": {
            "_view_name": "HTMLView",
            "style": "IPY_MODEL_3bceda245ea0483ca2369448a30d59b7",
            "_dom_classes": [],
            "description": "",
            "_model_name": "HTMLModel",
            "placeholder": "​",
            "_view_module": "@jupyter-widgets/controls",
            "_model_module_version": "1.5.0",
            "value": "100% 10000/10000 [01:52&lt;00:00, 89.19it/s]",
            "_view_count": null,
            "_view_module_version": "1.5.0",
            "description_tooltip": null,
            "_model_module": "@jupyter-widgets/controls",
            "layout": "IPY_MODEL_27b811ee2772415dae0f72acd224e60e"
          }
        },
        "6f4affa4966a4ab5af1ce4a799038fef": {
          "model_module": "@jupyter-widgets/controls",
          "model_name": "ProgressStyleModel",
          "state": {
            "_view_name": "StyleView",
            "_model_name": "ProgressStyleModel",
            "description_width": "",
            "_view_module": "@jupyter-widgets/base",
            "_model_module_version": "1.5.0",
            "_view_count": null,
            "_view_module_version": "1.2.0",
            "bar_color": null,
            "_model_module": "@jupyter-widgets/controls"
          }
        },
        "4b462118b112456db1f114b6fc59718e": {
          "model_module": "@jupyter-widgets/base",
          "model_name": "LayoutModel",
          "state": {
            "_view_name": "LayoutView",
            "grid_template_rows": null,
            "right": null,
            "justify_content": null,
            "_view_module": "@jupyter-widgets/base",
            "overflow": null,
            "_model_module_version": "1.2.0",
            "_view_count": null,
            "flex_flow": null,
            "width": null,
            "min_width": null,
            "border": null,
            "align_items": null,
            "bottom": null,
            "_model_module": "@jupyter-widgets/base",
            "top": null,
            "grid_column": null,
            "overflow_y": null,
            "overflow_x": null,
            "grid_auto_flow": null,
            "grid_area": null,
            "grid_template_columns": null,
            "flex": null,
            "_model_name": "LayoutModel",
            "justify_items": null,
            "grid_row": null,
            "max_height": null,
            "align_content": null,
            "visibility": null,
            "align_self": null,
            "height": null,
            "min_height": null,
            "padding": null,
            "grid_auto_rows": null,
            "grid_gap": null,
            "max_width": null,
            "order": null,
            "_view_module_version": "1.2.0",
            "grid_template_areas": null,
            "object_position": null,
            "object_fit": null,
            "grid_auto_columns": null,
            "margin": null,
            "display": null,
            "left": null
          }
        },
        "3bceda245ea0483ca2369448a30d59b7": {
          "model_module": "@jupyter-widgets/controls",
          "model_name": "DescriptionStyleModel",
          "state": {
            "_view_name": "StyleView",
            "_model_name": "DescriptionStyleModel",
            "description_width": "",
            "_view_module": "@jupyter-widgets/base",
            "_model_module_version": "1.5.0",
            "_view_count": null,
            "_view_module_version": "1.2.0",
            "_model_module": "@jupyter-widgets/controls"
          }
        },
        "27b811ee2772415dae0f72acd224e60e": {
          "model_module": "@jupyter-widgets/base",
          "model_name": "LayoutModel",
          "state": {
            "_view_name": "LayoutView",
            "grid_template_rows": null,
            "right": null,
            "justify_content": null,
            "_view_module": "@jupyter-widgets/base",
            "overflow": null,
            "_model_module_version": "1.2.0",
            "_view_count": null,
            "flex_flow": null,
            "width": null,
            "min_width": null,
            "border": null,
            "align_items": null,
            "bottom": null,
            "_model_module": "@jupyter-widgets/base",
            "top": null,
            "grid_column": null,
            "overflow_y": null,
            "overflow_x": null,
            "grid_auto_flow": null,
            "grid_area": null,
            "grid_template_columns": null,
            "flex": null,
            "_model_name": "LayoutModel",
            "justify_items": null,
            "grid_row": null,
            "max_height": null,
            "align_content": null,
            "visibility": null,
            "align_self": null,
            "height": null,
            "min_height": null,
            "padding": null,
            "grid_auto_rows": null,
            "grid_gap": null,
            "max_width": null,
            "order": null,
            "_view_module_version": "1.2.0",
            "grid_template_areas": null,
            "object_position": null,
            "object_fit": null,
            "grid_auto_columns": null,
            "margin": null,
            "display": null,
            "left": null
          }
        },
        "585a4b64a82c47338c545a9e2d266c59": {
          "model_module": "@jupyter-widgets/controls",
          "model_name": "HBoxModel",
          "state": {
            "_view_name": "HBoxView",
            "_dom_classes": [],
            "_model_name": "HBoxModel",
            "_view_module": "@jupyter-widgets/controls",
            "_model_module_version": "1.5.0",
            "_view_count": null,
            "_view_module_version": "1.5.0",
            "box_style": "",
            "layout": "IPY_MODEL_da65483fe6784ec2bfbdc76c91300f00",
            "_model_module": "@jupyter-widgets/controls",
            "children": [
              "IPY_MODEL_1cfed9b9ec0742c69f3f2497bba4b4ed",
              "IPY_MODEL_0064bba611874f33a40e14fd37fd392c"
            ]
          }
        },
        "da65483fe6784ec2bfbdc76c91300f00": {
          "model_module": "@jupyter-widgets/base",
          "model_name": "LayoutModel",
          "state": {
            "_view_name": "LayoutView",
            "grid_template_rows": null,
            "right": null,
            "justify_content": null,
            "_view_module": "@jupyter-widgets/base",
            "overflow": null,
            "_model_module_version": "1.2.0",
            "_view_count": null,
            "flex_flow": null,
            "width": null,
            "min_width": null,
            "border": null,
            "align_items": null,
            "bottom": null,
            "_model_module": "@jupyter-widgets/base",
            "top": null,
            "grid_column": null,
            "overflow_y": null,
            "overflow_x": null,
            "grid_auto_flow": null,
            "grid_area": null,
            "grid_template_columns": null,
            "flex": null,
            "_model_name": "LayoutModel",
            "justify_items": null,
            "grid_row": null,
            "max_height": null,
            "align_content": null,
            "visibility": null,
            "align_self": null,
            "height": null,
            "min_height": null,
            "padding": null,
            "grid_auto_rows": null,
            "grid_gap": null,
            "max_width": null,
            "order": null,
            "_view_module_version": "1.2.0",
            "grid_template_areas": null,
            "object_position": null,
            "object_fit": null,
            "grid_auto_columns": null,
            "margin": null,
            "display": null,
            "left": null
          }
        },
        "1cfed9b9ec0742c69f3f2497bba4b4ed": {
          "model_module": "@jupyter-widgets/controls",
          "model_name": "IntProgressModel",
          "state": {
            "_view_name": "ProgressView",
            "style": "IPY_MODEL_6d8b89f5f8f8429e9a4eed0442e7438f",
            "_dom_classes": [],
            "description": "",
            "_model_name": "IntProgressModel",
            "bar_style": "success",
            "max": 10000,
            "_view_module": "@jupyter-widgets/controls",
            "_model_module_version": "1.5.0",
            "value": 10000,
            "_view_count": null,
            "_view_module_version": "1.5.0",
            "orientation": "horizontal",
            "min": 0,
            "description_tooltip": null,
            "_model_module": "@jupyter-widgets/controls",
            "layout": "IPY_MODEL_f33a6156aa5b4b18af6c7ef0074066ee"
          }
        },
        "0064bba611874f33a40e14fd37fd392c": {
          "model_module": "@jupyter-widgets/controls",
          "model_name": "HTMLModel",
          "state": {
            "_view_name": "HTMLView",
            "style": "IPY_MODEL_751ffd404e2a4da28a09aca3fc27ce4a",
            "_dom_classes": [],
            "description": "",
            "_model_name": "HTMLModel",
            "placeholder": "​",
            "_view_module": "@jupyter-widgets/controls",
            "_model_module_version": "1.5.0",
            "value": "100% 10000/10000 [02:03&lt;00:00, 80.93it/s]",
            "_view_count": null,
            "_view_module_version": "1.5.0",
            "description_tooltip": null,
            "_model_module": "@jupyter-widgets/controls",
            "layout": "IPY_MODEL_021871eb41024267add3b4ce0ae85451"
          }
        },
        "6d8b89f5f8f8429e9a4eed0442e7438f": {
          "model_module": "@jupyter-widgets/controls",
          "model_name": "ProgressStyleModel",
          "state": {
            "_view_name": "StyleView",
            "_model_name": "ProgressStyleModel",
            "description_width": "",
            "_view_module": "@jupyter-widgets/base",
            "_model_module_version": "1.5.0",
            "_view_count": null,
            "_view_module_version": "1.2.0",
            "bar_color": null,
            "_model_module": "@jupyter-widgets/controls"
          }
        },
        "f33a6156aa5b4b18af6c7ef0074066ee": {
          "model_module": "@jupyter-widgets/base",
          "model_name": "LayoutModel",
          "state": {
            "_view_name": "LayoutView",
            "grid_template_rows": null,
            "right": null,
            "justify_content": null,
            "_view_module": "@jupyter-widgets/base",
            "overflow": null,
            "_model_module_version": "1.2.0",
            "_view_count": null,
            "flex_flow": null,
            "width": null,
            "min_width": null,
            "border": null,
            "align_items": null,
            "bottom": null,
            "_model_module": "@jupyter-widgets/base",
            "top": null,
            "grid_column": null,
            "overflow_y": null,
            "overflow_x": null,
            "grid_auto_flow": null,
            "grid_area": null,
            "grid_template_columns": null,
            "flex": null,
            "_model_name": "LayoutModel",
            "justify_items": null,
            "grid_row": null,
            "max_height": null,
            "align_content": null,
            "visibility": null,
            "align_self": null,
            "height": null,
            "min_height": null,
            "padding": null,
            "grid_auto_rows": null,
            "grid_gap": null,
            "max_width": null,
            "order": null,
            "_view_module_version": "1.2.0",
            "grid_template_areas": null,
            "object_position": null,
            "object_fit": null,
            "grid_auto_columns": null,
            "margin": null,
            "display": null,
            "left": null
          }
        },
        "751ffd404e2a4da28a09aca3fc27ce4a": {
          "model_module": "@jupyter-widgets/controls",
          "model_name": "DescriptionStyleModel",
          "state": {
            "_view_name": "StyleView",
            "_model_name": "DescriptionStyleModel",
            "description_width": "",
            "_view_module": "@jupyter-widgets/base",
            "_model_module_version": "1.5.0",
            "_view_count": null,
            "_view_module_version": "1.2.0",
            "_model_module": "@jupyter-widgets/controls"
          }
        },
        "021871eb41024267add3b4ce0ae85451": {
          "model_module": "@jupyter-widgets/base",
          "model_name": "LayoutModel",
          "state": {
            "_view_name": "LayoutView",
            "grid_template_rows": null,
            "right": null,
            "justify_content": null,
            "_view_module": "@jupyter-widgets/base",
            "overflow": null,
            "_model_module_version": "1.2.0",
            "_view_count": null,
            "flex_flow": null,
            "width": null,
            "min_width": null,
            "border": null,
            "align_items": null,
            "bottom": null,
            "_model_module": "@jupyter-widgets/base",
            "top": null,
            "grid_column": null,
            "overflow_y": null,
            "overflow_x": null,
            "grid_auto_flow": null,
            "grid_area": null,
            "grid_template_columns": null,
            "flex": null,
            "_model_name": "LayoutModel",
            "justify_items": null,
            "grid_row": null,
            "max_height": null,
            "align_content": null,
            "visibility": null,
            "align_self": null,
            "height": null,
            "min_height": null,
            "padding": null,
            "grid_auto_rows": null,
            "grid_gap": null,
            "max_width": null,
            "order": null,
            "_view_module_version": "1.2.0",
            "grid_template_areas": null,
            "object_position": null,
            "object_fit": null,
            "grid_auto_columns": null,
            "margin": null,
            "display": null,
            "left": null
          }
        },
        "c8395e359de04911a53d5709637b2b27": {
          "model_module": "@jupyter-widgets/controls",
          "model_name": "HBoxModel",
          "state": {
            "_view_name": "HBoxView",
            "_dom_classes": [],
            "_model_name": "HBoxModel",
            "_view_module": "@jupyter-widgets/controls",
            "_model_module_version": "1.5.0",
            "_view_count": null,
            "_view_module_version": "1.5.0",
            "box_style": "",
            "layout": "IPY_MODEL_cae9cd592efa446485c63f82735a5fbd",
            "_model_module": "@jupyter-widgets/controls",
            "children": [
              "IPY_MODEL_985a8a8d00ec4e009366d329320a11fa",
              "IPY_MODEL_e7d04f66d3f24236ae9fadf7b4158c43"
            ]
          }
        },
        "cae9cd592efa446485c63f82735a5fbd": {
          "model_module": "@jupyter-widgets/base",
          "model_name": "LayoutModel",
          "state": {
            "_view_name": "LayoutView",
            "grid_template_rows": null,
            "right": null,
            "justify_content": null,
            "_view_module": "@jupyter-widgets/base",
            "overflow": null,
            "_model_module_version": "1.2.0",
            "_view_count": null,
            "flex_flow": null,
            "width": null,
            "min_width": null,
            "border": null,
            "align_items": null,
            "bottom": null,
            "_model_module": "@jupyter-widgets/base",
            "top": null,
            "grid_column": null,
            "overflow_y": null,
            "overflow_x": null,
            "grid_auto_flow": null,
            "grid_area": null,
            "grid_template_columns": null,
            "flex": null,
            "_model_name": "LayoutModel",
            "justify_items": null,
            "grid_row": null,
            "max_height": null,
            "align_content": null,
            "visibility": null,
            "align_self": null,
            "height": null,
            "min_height": null,
            "padding": null,
            "grid_auto_rows": null,
            "grid_gap": null,
            "max_width": null,
            "order": null,
            "_view_module_version": "1.2.0",
            "grid_template_areas": null,
            "object_position": null,
            "object_fit": null,
            "grid_auto_columns": null,
            "margin": null,
            "display": null,
            "left": null
          }
        },
        "985a8a8d00ec4e009366d329320a11fa": {
          "model_module": "@jupyter-widgets/controls",
          "model_name": "IntProgressModel",
          "state": {
            "_view_name": "ProgressView",
            "style": "IPY_MODEL_f0e6fb95bec34fbe9a51a72d14b540ea",
            "_dom_classes": [],
            "description": "",
            "_model_name": "IntProgressModel",
            "bar_style": "success",
            "max": 10000,
            "_view_module": "@jupyter-widgets/controls",
            "_model_module_version": "1.5.0",
            "value": 10000,
            "_view_count": null,
            "_view_module_version": "1.5.0",
            "orientation": "horizontal",
            "min": 0,
            "description_tooltip": null,
            "_model_module": "@jupyter-widgets/controls",
            "layout": "IPY_MODEL_7f7a1f1e363949df9e0e3221190a04d4"
          }
        },
        "e7d04f66d3f24236ae9fadf7b4158c43": {
          "model_module": "@jupyter-widgets/controls",
          "model_name": "HTMLModel",
          "state": {
            "_view_name": "HTMLView",
            "style": "IPY_MODEL_3c9c2e9d1ff24ddd975b9b0f6a2baee5",
            "_dom_classes": [],
            "description": "",
            "_model_name": "HTMLModel",
            "placeholder": "​",
            "_view_module": "@jupyter-widgets/controls",
            "_model_module_version": "1.5.0",
            "value": "100% 10000/10000 [01:56&lt;00:00, 85.88it/s]",
            "_view_count": null,
            "_view_module_version": "1.5.0",
            "description_tooltip": null,
            "_model_module": "@jupyter-widgets/controls",
            "layout": "IPY_MODEL_61ac8cb2b893455281d82cdd5b0f8aaa"
          }
        },
        "f0e6fb95bec34fbe9a51a72d14b540ea": {
          "model_module": "@jupyter-widgets/controls",
          "model_name": "ProgressStyleModel",
          "state": {
            "_view_name": "StyleView",
            "_model_name": "ProgressStyleModel",
            "description_width": "",
            "_view_module": "@jupyter-widgets/base",
            "_model_module_version": "1.5.0",
            "_view_count": null,
            "_view_module_version": "1.2.0",
            "bar_color": null,
            "_model_module": "@jupyter-widgets/controls"
          }
        },
        "7f7a1f1e363949df9e0e3221190a04d4": {
          "model_module": "@jupyter-widgets/base",
          "model_name": "LayoutModel",
          "state": {
            "_view_name": "LayoutView",
            "grid_template_rows": null,
            "right": null,
            "justify_content": null,
            "_view_module": "@jupyter-widgets/base",
            "overflow": null,
            "_model_module_version": "1.2.0",
            "_view_count": null,
            "flex_flow": null,
            "width": null,
            "min_width": null,
            "border": null,
            "align_items": null,
            "bottom": null,
            "_model_module": "@jupyter-widgets/base",
            "top": null,
            "grid_column": null,
            "overflow_y": null,
            "overflow_x": null,
            "grid_auto_flow": null,
            "grid_area": null,
            "grid_template_columns": null,
            "flex": null,
            "_model_name": "LayoutModel",
            "justify_items": null,
            "grid_row": null,
            "max_height": null,
            "align_content": null,
            "visibility": null,
            "align_self": null,
            "height": null,
            "min_height": null,
            "padding": null,
            "grid_auto_rows": null,
            "grid_gap": null,
            "max_width": null,
            "order": null,
            "_view_module_version": "1.2.0",
            "grid_template_areas": null,
            "object_position": null,
            "object_fit": null,
            "grid_auto_columns": null,
            "margin": null,
            "display": null,
            "left": null
          }
        },
        "3c9c2e9d1ff24ddd975b9b0f6a2baee5": {
          "model_module": "@jupyter-widgets/controls",
          "model_name": "DescriptionStyleModel",
          "state": {
            "_view_name": "StyleView",
            "_model_name": "DescriptionStyleModel",
            "description_width": "",
            "_view_module": "@jupyter-widgets/base",
            "_model_module_version": "1.5.0",
            "_view_count": null,
            "_view_module_version": "1.2.0",
            "_model_module": "@jupyter-widgets/controls"
          }
        },
        "61ac8cb2b893455281d82cdd5b0f8aaa": {
          "model_module": "@jupyter-widgets/base",
          "model_name": "LayoutModel",
          "state": {
            "_view_name": "LayoutView",
            "grid_template_rows": null,
            "right": null,
            "justify_content": null,
            "_view_module": "@jupyter-widgets/base",
            "overflow": null,
            "_model_module_version": "1.2.0",
            "_view_count": null,
            "flex_flow": null,
            "width": null,
            "min_width": null,
            "border": null,
            "align_items": null,
            "bottom": null,
            "_model_module": "@jupyter-widgets/base",
            "top": null,
            "grid_column": null,
            "overflow_y": null,
            "overflow_x": null,
            "grid_auto_flow": null,
            "grid_area": null,
            "grid_template_columns": null,
            "flex": null,
            "_model_name": "LayoutModel",
            "justify_items": null,
            "grid_row": null,
            "max_height": null,
            "align_content": null,
            "visibility": null,
            "align_self": null,
            "height": null,
            "min_height": null,
            "padding": null,
            "grid_auto_rows": null,
            "grid_gap": null,
            "max_width": null,
            "order": null,
            "_view_module_version": "1.2.0",
            "grid_template_areas": null,
            "object_position": null,
            "object_fit": null,
            "grid_auto_columns": null,
            "margin": null,
            "display": null,
            "left": null
          }
        },
        "93482071d00f4d33a2d721144b05fbe9": {
          "model_module": "@jupyter-widgets/controls",
          "model_name": "HBoxModel",
          "state": {
            "_view_name": "HBoxView",
            "_dom_classes": [],
            "_model_name": "HBoxModel",
            "_view_module": "@jupyter-widgets/controls",
            "_model_module_version": "1.5.0",
            "_view_count": null,
            "_view_module_version": "1.5.0",
            "box_style": "",
            "layout": "IPY_MODEL_fd1578f733014ba0b31a44fce84a3561",
            "_model_module": "@jupyter-widgets/controls",
            "children": [
              "IPY_MODEL_252881c2375c460faf3867beba28ccae",
              "IPY_MODEL_080c8d47f1404ceda7dd476cb6b834bd"
            ]
          }
        },
        "fd1578f733014ba0b31a44fce84a3561": {
          "model_module": "@jupyter-widgets/base",
          "model_name": "LayoutModel",
          "state": {
            "_view_name": "LayoutView",
            "grid_template_rows": null,
            "right": null,
            "justify_content": null,
            "_view_module": "@jupyter-widgets/base",
            "overflow": null,
            "_model_module_version": "1.2.0",
            "_view_count": null,
            "flex_flow": null,
            "width": null,
            "min_width": null,
            "border": null,
            "align_items": null,
            "bottom": null,
            "_model_module": "@jupyter-widgets/base",
            "top": null,
            "grid_column": null,
            "overflow_y": null,
            "overflow_x": null,
            "grid_auto_flow": null,
            "grid_area": null,
            "grid_template_columns": null,
            "flex": null,
            "_model_name": "LayoutModel",
            "justify_items": null,
            "grid_row": null,
            "max_height": null,
            "align_content": null,
            "visibility": null,
            "align_self": null,
            "height": null,
            "min_height": null,
            "padding": null,
            "grid_auto_rows": null,
            "grid_gap": null,
            "max_width": null,
            "order": null,
            "_view_module_version": "1.2.0",
            "grid_template_areas": null,
            "object_position": null,
            "object_fit": null,
            "grid_auto_columns": null,
            "margin": null,
            "display": null,
            "left": null
          }
        },
        "252881c2375c460faf3867beba28ccae": {
          "model_module": "@jupyter-widgets/controls",
          "model_name": "IntProgressModel",
          "state": {
            "_view_name": "ProgressView",
            "style": "IPY_MODEL_5d86a27368d7497a9090d00daf3f0abd",
            "_dom_classes": [],
            "description": "",
            "_model_name": "IntProgressModel",
            "bar_style": "success",
            "max": 10000,
            "_view_module": "@jupyter-widgets/controls",
            "_model_module_version": "1.5.0",
            "value": 10000,
            "_view_count": null,
            "_view_module_version": "1.5.0",
            "orientation": "horizontal",
            "min": 0,
            "description_tooltip": null,
            "_model_module": "@jupyter-widgets/controls",
            "layout": "IPY_MODEL_d9de1fd506a4496bb53fdf6a797d23d4"
          }
        },
        "080c8d47f1404ceda7dd476cb6b834bd": {
          "model_module": "@jupyter-widgets/controls",
          "model_name": "HTMLModel",
          "state": {
            "_view_name": "HTMLView",
            "style": "IPY_MODEL_ccf4561ce63146308d581f1bfdae1d76",
            "_dom_classes": [],
            "description": "",
            "_model_name": "HTMLModel",
            "placeholder": "​",
            "_view_module": "@jupyter-widgets/controls",
            "_model_module_version": "1.5.0",
            "value": "100% 10000/10000 [01:53&lt;00:00, 88.10it/s]",
            "_view_count": null,
            "_view_module_version": "1.5.0",
            "description_tooltip": null,
            "_model_module": "@jupyter-widgets/controls",
            "layout": "IPY_MODEL_3835484b6a974d4e835f4e31c54664a1"
          }
        },
        "5d86a27368d7497a9090d00daf3f0abd": {
          "model_module": "@jupyter-widgets/controls",
          "model_name": "ProgressStyleModel",
          "state": {
            "_view_name": "StyleView",
            "_model_name": "ProgressStyleModel",
            "description_width": "",
            "_view_module": "@jupyter-widgets/base",
            "_model_module_version": "1.5.0",
            "_view_count": null,
            "_view_module_version": "1.2.0",
            "bar_color": null,
            "_model_module": "@jupyter-widgets/controls"
          }
        },
        "d9de1fd506a4496bb53fdf6a797d23d4": {
          "model_module": "@jupyter-widgets/base",
          "model_name": "LayoutModel",
          "state": {
            "_view_name": "LayoutView",
            "grid_template_rows": null,
            "right": null,
            "justify_content": null,
            "_view_module": "@jupyter-widgets/base",
            "overflow": null,
            "_model_module_version": "1.2.0",
            "_view_count": null,
            "flex_flow": null,
            "width": null,
            "min_width": null,
            "border": null,
            "align_items": null,
            "bottom": null,
            "_model_module": "@jupyter-widgets/base",
            "top": null,
            "grid_column": null,
            "overflow_y": null,
            "overflow_x": null,
            "grid_auto_flow": null,
            "grid_area": null,
            "grid_template_columns": null,
            "flex": null,
            "_model_name": "LayoutModel",
            "justify_items": null,
            "grid_row": null,
            "max_height": null,
            "align_content": null,
            "visibility": null,
            "align_self": null,
            "height": null,
            "min_height": null,
            "padding": null,
            "grid_auto_rows": null,
            "grid_gap": null,
            "max_width": null,
            "order": null,
            "_view_module_version": "1.2.0",
            "grid_template_areas": null,
            "object_position": null,
            "object_fit": null,
            "grid_auto_columns": null,
            "margin": null,
            "display": null,
            "left": null
          }
        },
        "ccf4561ce63146308d581f1bfdae1d76": {
          "model_module": "@jupyter-widgets/controls",
          "model_name": "DescriptionStyleModel",
          "state": {
            "_view_name": "StyleView",
            "_model_name": "DescriptionStyleModel",
            "description_width": "",
            "_view_module": "@jupyter-widgets/base",
            "_model_module_version": "1.5.0",
            "_view_count": null,
            "_view_module_version": "1.2.0",
            "_model_module": "@jupyter-widgets/controls"
          }
        },
        "3835484b6a974d4e835f4e31c54664a1": {
          "model_module": "@jupyter-widgets/base",
          "model_name": "LayoutModel",
          "state": {
            "_view_name": "LayoutView",
            "grid_template_rows": null,
            "right": null,
            "justify_content": null,
            "_view_module": "@jupyter-widgets/base",
            "overflow": null,
            "_model_module_version": "1.2.0",
            "_view_count": null,
            "flex_flow": null,
            "width": null,
            "min_width": null,
            "border": null,
            "align_items": null,
            "bottom": null,
            "_model_module": "@jupyter-widgets/base",
            "top": null,
            "grid_column": null,
            "overflow_y": null,
            "overflow_x": null,
            "grid_auto_flow": null,
            "grid_area": null,
            "grid_template_columns": null,
            "flex": null,
            "_model_name": "LayoutModel",
            "justify_items": null,
            "grid_row": null,
            "max_height": null,
            "align_content": null,
            "visibility": null,
            "align_self": null,
            "height": null,
            "min_height": null,
            "padding": null,
            "grid_auto_rows": null,
            "grid_gap": null,
            "max_width": null,
            "order": null,
            "_view_module_version": "1.2.0",
            "grid_template_areas": null,
            "object_position": null,
            "object_fit": null,
            "grid_auto_columns": null,
            "margin": null,
            "display": null,
            "left": null
          }
        },
        "f844812428d34036887280eb9b325ccf": {
          "model_module": "@jupyter-widgets/controls",
          "model_name": "HBoxModel",
          "state": {
            "_view_name": "HBoxView",
            "_dom_classes": [],
            "_model_name": "HBoxModel",
            "_view_module": "@jupyter-widgets/controls",
            "_model_module_version": "1.5.0",
            "_view_count": null,
            "_view_module_version": "1.5.0",
            "box_style": "",
            "layout": "IPY_MODEL_d4edd49a3cc0437a8417a16c2fcfc21d",
            "_model_module": "@jupyter-widgets/controls",
            "children": [
              "IPY_MODEL_4becedcd7eb241249f43dc0b06b36e78",
              "IPY_MODEL_b35d63e9cf54418686d700677e572866"
            ]
          }
        },
        "d4edd49a3cc0437a8417a16c2fcfc21d": {
          "model_module": "@jupyter-widgets/base",
          "model_name": "LayoutModel",
          "state": {
            "_view_name": "LayoutView",
            "grid_template_rows": null,
            "right": null,
            "justify_content": null,
            "_view_module": "@jupyter-widgets/base",
            "overflow": null,
            "_model_module_version": "1.2.0",
            "_view_count": null,
            "flex_flow": null,
            "width": null,
            "min_width": null,
            "border": null,
            "align_items": null,
            "bottom": null,
            "_model_module": "@jupyter-widgets/base",
            "top": null,
            "grid_column": null,
            "overflow_y": null,
            "overflow_x": null,
            "grid_auto_flow": null,
            "grid_area": null,
            "grid_template_columns": null,
            "flex": null,
            "_model_name": "LayoutModel",
            "justify_items": null,
            "grid_row": null,
            "max_height": null,
            "align_content": null,
            "visibility": null,
            "align_self": null,
            "height": null,
            "min_height": null,
            "padding": null,
            "grid_auto_rows": null,
            "grid_gap": null,
            "max_width": null,
            "order": null,
            "_view_module_version": "1.2.0",
            "grid_template_areas": null,
            "object_position": null,
            "object_fit": null,
            "grid_auto_columns": null,
            "margin": null,
            "display": null,
            "left": null
          }
        },
        "4becedcd7eb241249f43dc0b06b36e78": {
          "model_module": "@jupyter-widgets/controls",
          "model_name": "IntProgressModel",
          "state": {
            "_view_name": "ProgressView",
            "style": "IPY_MODEL_7d83bce4e2584708bce07a5c78f44dec",
            "_dom_classes": [],
            "description": "",
            "_model_name": "IntProgressModel",
            "bar_style": "success",
            "max": 10000,
            "_view_module": "@jupyter-widgets/controls",
            "_model_module_version": "1.5.0",
            "value": 10000,
            "_view_count": null,
            "_view_module_version": "1.5.0",
            "orientation": "horizontal",
            "min": 0,
            "description_tooltip": null,
            "_model_module": "@jupyter-widgets/controls",
            "layout": "IPY_MODEL_a4abb8d2adf44393bb06ac1db1419577"
          }
        },
        "b35d63e9cf54418686d700677e572866": {
          "model_module": "@jupyter-widgets/controls",
          "model_name": "HTMLModel",
          "state": {
            "_view_name": "HTMLView",
            "style": "IPY_MODEL_6d492c33bd9c49efa3a7a29859cbf9b9",
            "_dom_classes": [],
            "description": "",
            "_model_name": "HTMLModel",
            "placeholder": "​",
            "_view_module": "@jupyter-widgets/controls",
            "_model_module_version": "1.5.0",
            "value": "100% 10000/10000 [01:41&lt;00:00, 98.06it/s]",
            "_view_count": null,
            "_view_module_version": "1.5.0",
            "description_tooltip": null,
            "_model_module": "@jupyter-widgets/controls",
            "layout": "IPY_MODEL_461ddae40162457fbc319c0ace901a93"
          }
        },
        "7d83bce4e2584708bce07a5c78f44dec": {
          "model_module": "@jupyter-widgets/controls",
          "model_name": "ProgressStyleModel",
          "state": {
            "_view_name": "StyleView",
            "_model_name": "ProgressStyleModel",
            "description_width": "",
            "_view_module": "@jupyter-widgets/base",
            "_model_module_version": "1.5.0",
            "_view_count": null,
            "_view_module_version": "1.2.0",
            "bar_color": null,
            "_model_module": "@jupyter-widgets/controls"
          }
        },
        "a4abb8d2adf44393bb06ac1db1419577": {
          "model_module": "@jupyter-widgets/base",
          "model_name": "LayoutModel",
          "state": {
            "_view_name": "LayoutView",
            "grid_template_rows": null,
            "right": null,
            "justify_content": null,
            "_view_module": "@jupyter-widgets/base",
            "overflow": null,
            "_model_module_version": "1.2.0",
            "_view_count": null,
            "flex_flow": null,
            "width": null,
            "min_width": null,
            "border": null,
            "align_items": null,
            "bottom": null,
            "_model_module": "@jupyter-widgets/base",
            "top": null,
            "grid_column": null,
            "overflow_y": null,
            "overflow_x": null,
            "grid_auto_flow": null,
            "grid_area": null,
            "grid_template_columns": null,
            "flex": null,
            "_model_name": "LayoutModel",
            "justify_items": null,
            "grid_row": null,
            "max_height": null,
            "align_content": null,
            "visibility": null,
            "align_self": null,
            "height": null,
            "min_height": null,
            "padding": null,
            "grid_auto_rows": null,
            "grid_gap": null,
            "max_width": null,
            "order": null,
            "_view_module_version": "1.2.0",
            "grid_template_areas": null,
            "object_position": null,
            "object_fit": null,
            "grid_auto_columns": null,
            "margin": null,
            "display": null,
            "left": null
          }
        },
        "6d492c33bd9c49efa3a7a29859cbf9b9": {
          "model_module": "@jupyter-widgets/controls",
          "model_name": "DescriptionStyleModel",
          "state": {
            "_view_name": "StyleView",
            "_model_name": "DescriptionStyleModel",
            "description_width": "",
            "_view_module": "@jupyter-widgets/base",
            "_model_module_version": "1.5.0",
            "_view_count": null,
            "_view_module_version": "1.2.0",
            "_model_module": "@jupyter-widgets/controls"
          }
        },
        "461ddae40162457fbc319c0ace901a93": {
          "model_module": "@jupyter-widgets/base",
          "model_name": "LayoutModel",
          "state": {
            "_view_name": "LayoutView",
            "grid_template_rows": null,
            "right": null,
            "justify_content": null,
            "_view_module": "@jupyter-widgets/base",
            "overflow": null,
            "_model_module_version": "1.2.0",
            "_view_count": null,
            "flex_flow": null,
            "width": null,
            "min_width": null,
            "border": null,
            "align_items": null,
            "bottom": null,
            "_model_module": "@jupyter-widgets/base",
            "top": null,
            "grid_column": null,
            "overflow_y": null,
            "overflow_x": null,
            "grid_auto_flow": null,
            "grid_area": null,
            "grid_template_columns": null,
            "flex": null,
            "_model_name": "LayoutModel",
            "justify_items": null,
            "grid_row": null,
            "max_height": null,
            "align_content": null,
            "visibility": null,
            "align_self": null,
            "height": null,
            "min_height": null,
            "padding": null,
            "grid_auto_rows": null,
            "grid_gap": null,
            "max_width": null,
            "order": null,
            "_view_module_version": "1.2.0",
            "grid_template_areas": null,
            "object_position": null,
            "object_fit": null,
            "grid_auto_columns": null,
            "margin": null,
            "display": null,
            "left": null
          }
        },
        "1cde9acf33f74e4eb388b4efcf2a4736": {
          "model_module": "@jupyter-widgets/controls",
          "model_name": "HBoxModel",
          "state": {
            "_view_name": "HBoxView",
            "_dom_classes": [],
            "_model_name": "HBoxModel",
            "_view_module": "@jupyter-widgets/controls",
            "_model_module_version": "1.5.0",
            "_view_count": null,
            "_view_module_version": "1.5.0",
            "box_style": "",
            "layout": "IPY_MODEL_4648669f744c4e26b7caa22686136369",
            "_model_module": "@jupyter-widgets/controls",
            "children": [
              "IPY_MODEL_c3d41fa13f90454f853168953813a6e9",
              "IPY_MODEL_06e541aae7ef4adeb60f0cb403f04a28"
            ]
          }
        },
        "4648669f744c4e26b7caa22686136369": {
          "model_module": "@jupyter-widgets/base",
          "model_name": "LayoutModel",
          "state": {
            "_view_name": "LayoutView",
            "grid_template_rows": null,
            "right": null,
            "justify_content": null,
            "_view_module": "@jupyter-widgets/base",
            "overflow": null,
            "_model_module_version": "1.2.0",
            "_view_count": null,
            "flex_flow": null,
            "width": null,
            "min_width": null,
            "border": null,
            "align_items": null,
            "bottom": null,
            "_model_module": "@jupyter-widgets/base",
            "top": null,
            "grid_column": null,
            "overflow_y": null,
            "overflow_x": null,
            "grid_auto_flow": null,
            "grid_area": null,
            "grid_template_columns": null,
            "flex": null,
            "_model_name": "LayoutModel",
            "justify_items": null,
            "grid_row": null,
            "max_height": null,
            "align_content": null,
            "visibility": null,
            "align_self": null,
            "height": null,
            "min_height": null,
            "padding": null,
            "grid_auto_rows": null,
            "grid_gap": null,
            "max_width": null,
            "order": null,
            "_view_module_version": "1.2.0",
            "grid_template_areas": null,
            "object_position": null,
            "object_fit": null,
            "grid_auto_columns": null,
            "margin": null,
            "display": null,
            "left": null
          }
        },
        "c3d41fa13f90454f853168953813a6e9": {
          "model_module": "@jupyter-widgets/controls",
          "model_name": "IntProgressModel",
          "state": {
            "_view_name": "ProgressView",
            "style": "IPY_MODEL_8b38fae826ef4ab39f7fda442110a540",
            "_dom_classes": [],
            "description": "",
            "_model_name": "IntProgressModel",
            "bar_style": "success",
            "max": 10000,
            "_view_module": "@jupyter-widgets/controls",
            "_model_module_version": "1.5.0",
            "value": 10000,
            "_view_count": null,
            "_view_module_version": "1.5.0",
            "orientation": "horizontal",
            "min": 0,
            "description_tooltip": null,
            "_model_module": "@jupyter-widgets/controls",
            "layout": "IPY_MODEL_67a6ee87cb654554bc9080c4212937ce"
          }
        },
        "06e541aae7ef4adeb60f0cb403f04a28": {
          "model_module": "@jupyter-widgets/controls",
          "model_name": "HTMLModel",
          "state": {
            "_view_name": "HTMLView",
            "style": "IPY_MODEL_5192f20062ce4c388f396a8410911336",
            "_dom_classes": [],
            "description": "",
            "_model_name": "HTMLModel",
            "placeholder": "​",
            "_view_module": "@jupyter-widgets/controls",
            "_model_module_version": "1.5.0",
            "value": "100% 10000/10000 [01:53&lt;00:00, 88.03it/s]",
            "_view_count": null,
            "_view_module_version": "1.5.0",
            "description_tooltip": null,
            "_model_module": "@jupyter-widgets/controls",
            "layout": "IPY_MODEL_17f3f1072ba44b199fb4bbe7df0ebc29"
          }
        },
        "8b38fae826ef4ab39f7fda442110a540": {
          "model_module": "@jupyter-widgets/controls",
          "model_name": "ProgressStyleModel",
          "state": {
            "_view_name": "StyleView",
            "_model_name": "ProgressStyleModel",
            "description_width": "",
            "_view_module": "@jupyter-widgets/base",
            "_model_module_version": "1.5.0",
            "_view_count": null,
            "_view_module_version": "1.2.0",
            "bar_color": null,
            "_model_module": "@jupyter-widgets/controls"
          }
        },
        "67a6ee87cb654554bc9080c4212937ce": {
          "model_module": "@jupyter-widgets/base",
          "model_name": "LayoutModel",
          "state": {
            "_view_name": "LayoutView",
            "grid_template_rows": null,
            "right": null,
            "justify_content": null,
            "_view_module": "@jupyter-widgets/base",
            "overflow": null,
            "_model_module_version": "1.2.0",
            "_view_count": null,
            "flex_flow": null,
            "width": null,
            "min_width": null,
            "border": null,
            "align_items": null,
            "bottom": null,
            "_model_module": "@jupyter-widgets/base",
            "top": null,
            "grid_column": null,
            "overflow_y": null,
            "overflow_x": null,
            "grid_auto_flow": null,
            "grid_area": null,
            "grid_template_columns": null,
            "flex": null,
            "_model_name": "LayoutModel",
            "justify_items": null,
            "grid_row": null,
            "max_height": null,
            "align_content": null,
            "visibility": null,
            "align_self": null,
            "height": null,
            "min_height": null,
            "padding": null,
            "grid_auto_rows": null,
            "grid_gap": null,
            "max_width": null,
            "order": null,
            "_view_module_version": "1.2.0",
            "grid_template_areas": null,
            "object_position": null,
            "object_fit": null,
            "grid_auto_columns": null,
            "margin": null,
            "display": null,
            "left": null
          }
        },
        "5192f20062ce4c388f396a8410911336": {
          "model_module": "@jupyter-widgets/controls",
          "model_name": "DescriptionStyleModel",
          "state": {
            "_view_name": "StyleView",
            "_model_name": "DescriptionStyleModel",
            "description_width": "",
            "_view_module": "@jupyter-widgets/base",
            "_model_module_version": "1.5.0",
            "_view_count": null,
            "_view_module_version": "1.2.0",
            "_model_module": "@jupyter-widgets/controls"
          }
        },
        "17f3f1072ba44b199fb4bbe7df0ebc29": {
          "model_module": "@jupyter-widgets/base",
          "model_name": "LayoutModel",
          "state": {
            "_view_name": "LayoutView",
            "grid_template_rows": null,
            "right": null,
            "justify_content": null,
            "_view_module": "@jupyter-widgets/base",
            "overflow": null,
            "_model_module_version": "1.2.0",
            "_view_count": null,
            "flex_flow": null,
            "width": null,
            "min_width": null,
            "border": null,
            "align_items": null,
            "bottom": null,
            "_model_module": "@jupyter-widgets/base",
            "top": null,
            "grid_column": null,
            "overflow_y": null,
            "overflow_x": null,
            "grid_auto_flow": null,
            "grid_area": null,
            "grid_template_columns": null,
            "flex": null,
            "_model_name": "LayoutModel",
            "justify_items": null,
            "grid_row": null,
            "max_height": null,
            "align_content": null,
            "visibility": null,
            "align_self": null,
            "height": null,
            "min_height": null,
            "padding": null,
            "grid_auto_rows": null,
            "grid_gap": null,
            "max_width": null,
            "order": null,
            "_view_module_version": "1.2.0",
            "grid_template_areas": null,
            "object_position": null,
            "object_fit": null,
            "grid_auto_columns": null,
            "margin": null,
            "display": null,
            "left": null
          }
        }
      }
    }
  },
  "cells": [
    {
      "cell_type": "markdown",
      "metadata": {
        "id": "2ZvRsKxerr_C",
        "colab_type": "text"
      },
      "source": [
        "# Homework 3: Word Embeddings\n",
        "\n",
        "In this homework assignment, we are going to tackle two different exercises involving word embeddings. First, we are going to explore using the semantic orientation method to score words. Second, we will explore the effect of context sizes in building embeddings based on word cooccurrences."
      ]
    },
    {
      "cell_type": "markdown",
      "metadata": {
        "id": "fRjB4n70e_Nv",
        "colab_type": "text"
      },
      "source": [
        "# Part 0: Setup"
      ]
    },
    {
      "cell_type": "code",
      "metadata": {
        "id": "qIT93qtzg7rA",
        "colab_type": "code",
        "outputId": "497e492e-d019-4651-bbdf-99375b81d29a",
        "colab": {
          "base_uri": "https://localhost:8080/",
          "height": 119
        }
      },
      "source": [
        "!pip install sacremoses"
      ],
      "execution_count": 19,
      "outputs": [
        {
          "output_type": "stream",
          "text": [
            "Requirement already satisfied: sacremoses in /usr/local/lib/python3.6/dist-packages (0.0.38)\n",
            "Requirement already satisfied: tqdm in /usr/local/lib/python3.6/dist-packages (from sacremoses) (4.28.1)\n",
            "Requirement already satisfied: regex in /usr/local/lib/python3.6/dist-packages (from sacremoses) (2019.12.20)\n",
            "Requirement already satisfied: joblib in /usr/local/lib/python3.6/dist-packages (from sacremoses) (0.14.1)\n",
            "Requirement already satisfied: click in /usr/local/lib/python3.6/dist-packages (from sacremoses) (7.0)\n",
            "Requirement already satisfied: six in /usr/local/lib/python3.6/dist-packages (from sacremoses) (1.12.0)\n"
          ],
          "name": "stdout"
        }
      ]
    },
    {
      "cell_type": "code",
      "metadata": {
        "id": "Mv7TBcl5e_Nf",
        "colab_type": "code",
        "colab": {}
      },
      "source": [
        "import pandas as pd\n",
        "import numpy as np\n",
        "from sklearn.metrics.pairwise import cosine_similarity\n",
        "import sacremoses\n",
        "import tqdm\n",
        "import time\n",
        "from matplotlib import pyplot as plt\n",
        "%matplotlib inline"
      ],
      "execution_count": 0,
      "outputs": []
    },
    {
      "cell_type": "markdown",
      "metadata": {
        "id": "O0lWzIl3e_N1",
        "colab_type": "text"
      },
      "source": [
        "We're going load a set of 50D word vectors from GloVe. If want to download other versions of GloVe, you can click [here](https://nlp.stanford.edu/projects/glove/)."
      ]
    },
    {
      "cell_type": "code",
      "metadata": {
        "id": "2INTutRPfCVn",
        "colab_type": "code",
        "outputId": "bfb33fc0-e12f-4830-c539-b3beff8c4e2d",
        "colab": {
          "base_uri": "https://localhost:8080/",
          "height": 1000
        }
      },
      "source": [
        "!wget https://docs.google.com/uc?id=1si-rTb4nALWb-Wah5_tqbs9KXAwE3qhK -O glove.aa\n",
        "!wget https://docs.google.com/uc?id=1_XywxYH56-tHepqxpUfE-Y6xNQSZiu-7 -O glove.ab\n",
        "!wget https://docs.google.com/uc?id=1ISSLqQWL8EO8blT54RKahkDQhtmSp9ae -O glove.ac\n",
        "!wget https://docs.google.com/uc?id=1qHqCKLFO0Zdyhmb_ctd63aaFRLNGiDfB -O glove.ad\n",
        "!cat glove.?? > 'glove.6B.50d.txt'"
      ],
      "execution_count": 3,
      "outputs": [
        {
          "output_type": "stream",
          "text": [
            "--2020-02-26 19:50:08--  https://docs.google.com/uc?id=1si-rTb4nALWb-Wah5_tqbs9KXAwE3qhK\n",
            "Resolving docs.google.com (docs.google.com)... 173.194.216.101, 173.194.216.102, 173.194.216.138, ...\n",
            "Connecting to docs.google.com (docs.google.com)|173.194.216.101|:443... connected.\n",
            "HTTP request sent, awaiting response... 302 Moved Temporarily\n",
            "Location: https://doc-00-0g-docs.googleusercontent.com/docs/securesc/ha0ro937gcuc7l7deffksulhg5h7mbp1/o4e6l20inat7m8c25r5o46e4v1tkjfam/1582746300000/14514704803973256873/*/1si-rTb4nALWb-Wah5_tqbs9KXAwE3qhK [following]\n",
            "Warning: wildcards not supported in HTTP.\n",
            "--2020-02-26 19:50:10--  https://doc-00-0g-docs.googleusercontent.com/docs/securesc/ha0ro937gcuc7l7deffksulhg5h7mbp1/o4e6l20inat7m8c25r5o46e4v1tkjfam/1582746300000/14514704803973256873/*/1si-rTb4nALWb-Wah5_tqbs9KXAwE3qhK\n",
            "Resolving doc-00-0g-docs.googleusercontent.com (doc-00-0g-docs.googleusercontent.com)... 172.217.204.132, 2607:f8b0:400c:c15::84\n",
            "Connecting to doc-00-0g-docs.googleusercontent.com (doc-00-0g-docs.googleusercontent.com)|172.217.204.132|:443... connected.\n",
            "HTTP request sent, awaiting response... 200 OK\n",
            "Length: unspecified [audio/audible]\n",
            "Saving to: ‘glove.aa’\n",
            "\n",
            "glove.aa                [   <=>              ]  50.00M   116MB/s    in 0.4s    \n",
            "\n",
            "2020-02-26 19:50:10 (116 MB/s) - ‘glove.aa’ saved [52428800]\n",
            "\n",
            "--2020-02-26 19:50:11--  https://docs.google.com/uc?id=1_XywxYH56-tHepqxpUfE-Y6xNQSZiu-7\n",
            "Resolving docs.google.com (docs.google.com)... 173.194.215.100, 173.194.215.113, 173.194.215.101, ...\n",
            "Connecting to docs.google.com (docs.google.com)|173.194.215.100|:443... connected.\n",
            "HTTP request sent, awaiting response... 302 Moved Temporarily\n",
            "Location: https://doc-08-0g-docs.googleusercontent.com/docs/securesc/ha0ro937gcuc7l7deffksulhg5h7mbp1/bv401tj3u8qc8skv3tpf479fvbgvpslo/1582746300000/14514704803973256873/*/1_XywxYH56-tHepqxpUfE-Y6xNQSZiu-7 [following]\n",
            "Warning: wildcards not supported in HTTP.\n",
            "--2020-02-26 19:50:16--  https://doc-08-0g-docs.googleusercontent.com/docs/securesc/ha0ro937gcuc7l7deffksulhg5h7mbp1/bv401tj3u8qc8skv3tpf479fvbgvpslo/1582746300000/14514704803973256873/*/1_XywxYH56-tHepqxpUfE-Y6xNQSZiu-7\n",
            "Resolving doc-08-0g-docs.googleusercontent.com (doc-08-0g-docs.googleusercontent.com)... 172.217.204.132, 2607:f8b0:400c:c15::84\n",
            "Connecting to doc-08-0g-docs.googleusercontent.com (doc-08-0g-docs.googleusercontent.com)|172.217.204.132|:443... connected.\n",
            "HTTP request sent, awaiting response... 200 OK\n",
            "Length: unspecified [application/octet-stream]\n",
            "Saving to: ‘glove.ab’\n",
            "\n",
            "glove.ab                [   <=>              ]  50.00M   113MB/s    in 0.4s    \n",
            "\n",
            "2020-02-26 19:50:16 (113 MB/s) - ‘glove.ab’ saved [52428800]\n",
            "\n",
            "--2020-02-26 19:50:17--  https://docs.google.com/uc?id=1ISSLqQWL8EO8blT54RKahkDQhtmSp9ae\n",
            "Resolving docs.google.com (docs.google.com)... 173.194.215.100, 173.194.215.113, 173.194.215.101, ...\n",
            "Connecting to docs.google.com (docs.google.com)|173.194.215.100|:443... connected.\n",
            "HTTP request sent, awaiting response... 302 Moved Temporarily\n",
            "Location: https://doc-0g-0g-docs.googleusercontent.com/docs/securesc/ha0ro937gcuc7l7deffksulhg5h7mbp1/67u5mivdai0k48apfkkihe86n98ullrt/1582746300000/14514704803973256873/*/1ISSLqQWL8EO8blT54RKahkDQhtmSp9ae [following]\n",
            "Warning: wildcards not supported in HTTP.\n",
            "--2020-02-26 19:50:19--  https://doc-0g-0g-docs.googleusercontent.com/docs/securesc/ha0ro937gcuc7l7deffksulhg5h7mbp1/67u5mivdai0k48apfkkihe86n98ullrt/1582746300000/14514704803973256873/*/1ISSLqQWL8EO8blT54RKahkDQhtmSp9ae\n",
            "Resolving doc-0g-0g-docs.googleusercontent.com (doc-0g-0g-docs.googleusercontent.com)... 172.217.204.132, 2607:f8b0:400c:c15::84\n",
            "Connecting to doc-0g-0g-docs.googleusercontent.com (doc-0g-0g-docs.googleusercontent.com)|172.217.204.132|:443... connected.\n",
            "HTTP request sent, awaiting response... 200 OK\n",
            "Length: unspecified [application/octet-stream]\n",
            "Saving to: ‘glove.ac’\n",
            "\n",
            "glove.ac                [   <=>              ]  50.00M   124MB/s    in 0.4s    \n",
            "\n",
            "2020-02-26 19:50:19 (124 MB/s) - ‘glove.ac’ saved [52428800]\n",
            "\n",
            "--2020-02-26 19:50:20--  https://docs.google.com/uc?id=1qHqCKLFO0Zdyhmb_ctd63aaFRLNGiDfB\n",
            "Resolving docs.google.com (docs.google.com)... 172.217.204.102, 172.217.204.138, 172.217.204.113, ...\n",
            "Connecting to docs.google.com (docs.google.com)|172.217.204.102|:443... connected.\n",
            "HTTP request sent, awaiting response... 302 Moved Temporarily\n",
            "Location: https://doc-0o-0g-docs.googleusercontent.com/docs/securesc/ha0ro937gcuc7l7deffksulhg5h7mbp1/gnbl9m56lbch0u5cbtm6fd8l9b939l62/1582746300000/14514704803973256873/*/1qHqCKLFO0Zdyhmb_ctd63aaFRLNGiDfB [following]\n",
            "Warning: wildcards not supported in HTTP.\n",
            "--2020-02-26 19:50:21--  https://doc-0o-0g-docs.googleusercontent.com/docs/securesc/ha0ro937gcuc7l7deffksulhg5h7mbp1/gnbl9m56lbch0u5cbtm6fd8l9b939l62/1582746300000/14514704803973256873/*/1qHqCKLFO0Zdyhmb_ctd63aaFRLNGiDfB\n",
            "Resolving doc-0o-0g-docs.googleusercontent.com (doc-0o-0g-docs.googleusercontent.com)... 172.217.204.132, 2607:f8b0:400c:c15::84\n",
            "Connecting to doc-0o-0g-docs.googleusercontent.com (doc-0o-0g-docs.googleusercontent.com)|172.217.204.132|:443... connected.\n",
            "HTTP request sent, awaiting response... 200 OK\n",
            "Length: unspecified [application/octet-stream]\n",
            "Saving to: ‘glove.ad’\n",
            "\n",
            "glove.ad                [ <=>                ]  13.41M  --.-KB/s    in 0.09s   \n",
            "\n",
            "2020-02-26 19:50:22 (157 MB/s) - ‘glove.ad’ saved [14063679]\n",
            "\n"
          ],
          "name": "stdout"
        }
      ]
    },
    {
      "cell_type": "markdown",
      "metadata": {
        "id": "1t4crjzWsOpp",
        "colab_type": "text"
      },
      "source": [
        "We'll load the GloVe embeddings similar to previous labs. `words_to_load` specifies how many word vectors we want to load. The words are saved in frequency order, so specifying 50,000 means that we only want to work with the 50,000 most frequent words from the source corpus."
      ]
    },
    {
      "cell_type": "code",
      "metadata": {
        "id": "H1MqtauHe_N4",
        "colab_type": "code",
        "outputId": "d311247d-68a6-4db8-8ef3-adf7607c8f42",
        "colab": {
          "base_uri": "https://localhost:8080/",
          "height": 34
        }
      },
      "source": [
        "words_to_load = 50000\n",
        "\n",
        "with open('./glove.6B.50d.txt') as f:\n",
        "    loaded_embeddings = np.zeros((words_to_load, 50))\n",
        "    words_to_index = {}\n",
        "    ordered_words = []\n",
        "    for i, line in enumerate(f):\n",
        "        if i >= words_to_load: \n",
        "            break\n",
        "        \n",
        "        s = line.split()\n",
        "        loaded_embeddings[i, :] = np.asarray(s[1:])\n",
        "        words_to_index[s[0]] = i\n",
        "        ordered_words.append(s[0])\n",
        "print(\"GloVe loaded\")"
      ],
      "execution_count": 20,
      "outputs": [
        {
          "output_type": "stream",
          "text": [
            "GloVe loaded\n"
          ],
          "name": "stdout"
        }
      ]
    },
    {
      "cell_type": "markdown",
      "metadata": {
        "id": "O_SUYoKFe_OB",
        "colab_type": "text"
      },
      "source": [
        "Let's look at the embedding for the word \"potato\"."
      ]
    },
    {
      "cell_type": "code",
      "metadata": {
        "id": "A_wdFWAXe_ON",
        "colab_type": "code",
        "outputId": "851a7af4-2f23-4d46-ad9f-cb9553265328",
        "colab": {
          "base_uri": "https://localhost:8080/",
          "height": 170
        }
      },
      "source": [
        "loaded_embeddings[words_to_index['potato']]"
      ],
      "execution_count": 21,
      "outputs": [
        {
          "output_type": "execute_result",
          "data": {
            "text/plain": [
              "array([-0.063054, -0.62636 , -0.76417 , -0.041484,  0.56284 ,  0.86432 ,\n",
              "       -0.73734 , -0.70925 , -0.073065, -0.74619 , -0.34769 ,  0.14402 ,\n",
              "        1.4576  ,  0.034688,  0.11224 ,  0.13854 ,  0.10484 ,  0.60207 ,\n",
              "        0.021777, -0.21802 ,  0.087613, -1.4234  ,  1.0361  ,  0.1509  ,\n",
              "        0.13608 , -0.2971  , -0.90828 ,  0.34182 ,  1.3367  ,  0.16329 ,\n",
              "        1.2374  , -0.20113 , -0.91532 ,  1.4222  , -0.1276  ,  0.69443 ,\n",
              "       -1.1782  ,  1.2072  ,  1.0524  , -0.11957 , -0.1275  ,  0.41798 ,\n",
              "       -0.9232  , -0.1312  ,  1.2696  ,  1.2318  ,  0.30061 , -0.18854 ,\n",
              "        0.15899 ,  0.0486  ])"
            ]
          },
          "metadata": {
            "tags": []
          },
          "execution_count": 21
        }
      ]
    },
    {
      "cell_type": "markdown",
      "metadata": {
        "id": "lqeYUGvJe_OW",
        "colab_type": "text"
      },
      "source": [
        "# Part 1: The Semantic Orientation Method [40]"
      ]
    },
    {
      "cell_type": "markdown",
      "metadata": {
        "id": "iTvdJ39Fe_OZ",
        "colab_type": "text"
      },
      "source": [
        "The __semantic orientation__ method of [Turney and Littman 2003](http://doi.acm.org/10.1145/944012.944013) is a method for automatically scoring words along some single semantic dimension like sentiment. It works from a pair of small seed sets of words that represent two opposing points on that dimension.\n",
        "\n",
        "*Some code in this section was adapted from Stanford CS 224U*"
      ]
    },
    {
      "cell_type": "markdown",
      "metadata": {
        "id": "EK48UHrke_Oc",
        "colab_type": "text"
      },
      "source": [
        "Here's a sample pair of seed sets:"
      ]
    },
    {
      "cell_type": "code",
      "metadata": {
        "id": "xtlIac9Ge_Oe",
        "colab_type": "code",
        "colab": {}
      },
      "source": [
        "positive_words = ['good', 'great', 'awesome', 'like', 'love']\n",
        "negative_words = ['bad', 'awful', 'terrible', 'hate', 'dislike']"
      ],
      "execution_count": 0,
      "outputs": []
    },
    {
      "cell_type": "code",
      "metadata": {
        "id": "hXaolKIIe_Ok",
        "colab_type": "code",
        "colab": {}
      },
      "source": [
        "class SemanticOrientation:\n",
        "    \n",
        "    def __init__(self, seed_pos, seed_neg):\n",
        "        \"\"\"\n",
        "        args: \n",
        "            - seed_pos: list of 'positive' words\n",
        "            - seed_neg: list of 'negative' words\n",
        "        \"\"\"\n",
        "        self.seed_pos = seed_pos\n",
        "        self.seed_neg = seed_neg\n",
        "        seed_pos_indices = [words_to_index[seed] for seed in seed_pos]\n",
        "        seed_neg_indices = [words_to_index[seed] for seed in seed_neg]\n",
        "        \n",
        "        # Get matrices of embeddings for positive and negative words\n",
        "        self.seed_pos_mat = loaded_embeddings[seed_pos_indices]\n",
        "        self.seed_neg_mat = loaded_embeddings[seed_neg_indices]\n",
        "        \n",
        "    def determine_coefficient(self, candidate_words):\n",
        "        \"\"\"\n",
        "        args:\n",
        "            - candidate_words: single word, or list of words\n",
        "        \"\"\"\n",
        "        \n",
        "        # Optionally handle a single word\n",
        "        one_word = isinstance(candidate_words, str)\n",
        "        if one_word:\n",
        "            candidate_words = [candidate_words]\n",
        "\n",
        "        # Retrieve matrix of embeddings for candidate words\n",
        "        candidates_mat = np.array([\n",
        "            loaded_embeddings[words_to_index[candidate_word]]\n",
        "            for candidate_word in candidate_words\n",
        "        ])\n",
        "        # Compute the cosine similarity between the seed word and \n",
        "        #   the candidate word embeddings, and average\n",
        "        pos_sim = cosine_similarity(self.seed_pos_mat, candidates_mat).mean(axis=0)\n",
        "        neg_sim = cosine_similarity(self.seed_neg_mat, candidates_mat).mean(axis=0)\n",
        "        # Compute the difference between the average positive and negative similarities\n",
        "        diff = pos_sim - neg_sim\n",
        "\n",
        "        if one_word:\n",
        "            return diff[0]\n",
        "        else:\n",
        "            return diff"
      ],
      "execution_count": 0,
      "outputs": []
    },
    {
      "cell_type": "code",
      "metadata": {
        "id": "B8ho1OPve_Or",
        "colab_type": "code",
        "colab": {}
      },
      "source": [
        "sentiment_so = SemanticOrientation(\n",
        "    seed_pos=positive_words,\n",
        "    seed_neg=negative_words,\n",
        ")"
      ],
      "execution_count": 0,
      "outputs": []
    },
    {
      "cell_type": "markdown",
      "metadata": {
        "id": "iCokxNHHe_Oy",
        "colab_type": "text"
      },
      "source": [
        "Let's get the coefficients of some words and see if it lines up with our intuition."
      ]
    },
    {
      "cell_type": "code",
      "metadata": {
        "scrolled": true,
        "id": "MgIfflYpe_O0",
        "colab_type": "code",
        "outputId": "7772200f-5244-41a7-a8f2-edc1a5dc0ad0",
        "colab": {
          "base_uri": "https://localhost:8080/",
          "height": 34
        }
      },
      "source": [
        "sentiment_so.determine_coefficient('abhorrent')"
      ],
      "execution_count": 25,
      "outputs": [
        {
          "output_type": "execute_result",
          "data": {
            "text/plain": [
              "-0.2712170238375182"
            ]
          },
          "metadata": {
            "tags": []
          },
          "execution_count": 25
        }
      ]
    },
    {
      "cell_type": "code",
      "metadata": {
        "id": "qnCoEmT4e_O6",
        "colab_type": "code",
        "outputId": "054d7421-ae4b-4ccc-853d-b3429cb65b76",
        "colab": {
          "base_uri": "https://localhost:8080/",
          "height": 34
        }
      },
      "source": [
        "sentiment_so.determine_coefficient('excellent')"
      ],
      "execution_count": 26,
      "outputs": [
        {
          "output_type": "execute_result",
          "data": {
            "text/plain": [
              "0.2816580407857993"
            ]
          },
          "metadata": {
            "tags": []
          },
          "execution_count": 26
        }
      ]
    },
    {
      "cell_type": "code",
      "metadata": {
        "id": "u7s5-BXFe_O_",
        "colab_type": "code",
        "outputId": "afc87d84-d73e-40d6-9dab-e45723931d13",
        "colab": {
          "base_uri": "https://localhost:8080/",
          "height": 34
        }
      },
      "source": [
        "sentiment_so.determine_coefficient('amazing')"
      ],
      "execution_count": 27,
      "outputs": [
        {
          "output_type": "execute_result",
          "data": {
            "text/plain": [
              "0.2068293944473673"
            ]
          },
          "metadata": {
            "tags": []
          },
          "execution_count": 27
        }
      ]
    },
    {
      "cell_type": "code",
      "metadata": {
        "id": "utlgXcWee_PH",
        "colab_type": "code",
        "outputId": "00720439-ce42-4767-a98f-811916b8e5a4",
        "colab": {
          "base_uri": "https://localhost:8080/",
          "height": 34
        }
      },
      "source": [
        "sentiment_so.determine_coefficient('okay')"
      ],
      "execution_count": 28,
      "outputs": [
        {
          "output_type": "execute_result",
          "data": {
            "text/plain": [
              "-0.011928961401575844"
            ]
          },
          "metadata": {
            "tags": []
          },
          "execution_count": 28
        }
      ]
    },
    {
      "cell_type": "code",
      "metadata": {
        "id": "zSjJ6ceRe_PO",
        "colab_type": "code",
        "outputId": "aa39e09b-63ff-4a9f-9e94-be35e7f7eadf",
        "colab": {
          "base_uri": "https://localhost:8080/",
          "height": 34
        }
      },
      "source": [
        "sentiment_so.determine_coefficient('atrocious')"
      ],
      "execution_count": 29,
      "outputs": [
        {
          "output_type": "execute_result",
          "data": {
            "text/plain": [
              "-0.2749609244690855"
            ]
          },
          "metadata": {
            "tags": []
          },
          "execution_count": 29
        }
      ]
    },
    {
      "cell_type": "code",
      "metadata": {
        "id": "qm3h-qP29ttp",
        "colab_type": "code",
        "colab": {}
      },
      "source": [
        "def scatter_and_annotate(ax, x_values, y_values, labels, color):\n",
        "    ax.scatter(x_values, y_values, color=color)\n",
        "    for i, label in enumerate(labels):\n",
        "        ax.text(x_values[i], y_values[i], label, rotation=45)\n",
        "\n",
        "def plot_semantic_orientation(semantic_orientation, words):\n",
        "    fig = plt.figure(figsize=(8, 4))\n",
        "    ax = fig.gca()\n",
        "    x_values = semantic_orientation.determine_coefficient(semantic_orientation.seed_pos) \n",
        "    x_values = semantic_orientation.determine_coefficient(semantic_orientation.seed_pos) \n",
        "\n",
        "    scatter_and_annotate(\n",
        "        ax=ax,\n",
        "        x_values=semantic_orientation.determine_coefficient(semantic_orientation.seed_pos),\n",
        "        y_values=[0] * len(semantic_orientation.seed_pos),\n",
        "        labels=semantic_orientation.seed_pos,\n",
        "        color=\"blue\",\n",
        "    )\n",
        "    scatter_and_annotate(\n",
        "        ax=ax,\n",
        "        x_values=semantic_orientation.determine_coefficient(semantic_orientation.seed_neg),\n",
        "        y_values=[0] * len(semantic_orientation.seed_neg),\n",
        "        labels=semantic_orientation.seed_neg,\n",
        "        color=\"red\",\n",
        "    )\n",
        "    ax.axhline(0, color=\"gray\")\n",
        "\n",
        "    scatter_and_annotate(\n",
        "        ax=ax,\n",
        "        x_values=semantic_orientation.determine_coefficient(words),\n",
        "        y_values=[-2] * len(words),\n",
        "        labels=words,\n",
        "        color=\"purple\",\n",
        "    )\n",
        "    ax.axhline(-2, color=\"black\")\n",
        "    ax.set_ylim(-2.5, 1)\n",
        "    ax.set_yticks([-2, 0])\n",
        "    ax.set_yticklabels([\"words\", \"seed\"])"
      ],
      "execution_count": 0,
      "outputs": []
    },
    {
      "cell_type": "code",
      "metadata": {
        "id": "R6eXvmqT9GAx",
        "colab_type": "code",
        "outputId": "7f4123fd-1c43-432c-9601-44f80c492b55",
        "colab": {
          "base_uri": "https://localhost:8080/",
          "height": 265
        }
      },
      "source": [
        "plot_semantic_orientation(\n",
        "    semantic_orientation=sentiment_so, \n",
        "    words=[\"abhorrent\", \"excellent\", \"amazing\", \"okay\", \"atrocious\"],\n",
        ")"
      ],
      "execution_count": 31,
      "outputs": [
        {
          "output_type": "display_data",
          "data": {
            "image/png": "[encoded data removed]",
            "text/plain": [
              "<Figure size 576x288 with 1 Axes>"
            ]
          },
          "metadata": {
            "tags": []
          }
        }
      ]
    },
    {
      "cell_type": "markdown",
      "metadata": {
        "id": "GAXq32WIe_PU",
        "colab_type": "text"
      },
      "source": [
        "And sort our vocabulary by its score along the axis. For now, we're only scoring frequent words, since this process can be slow."
      ]
    },
    {
      "cell_type": "markdown",
      "metadata": {
        "id": "kIXIX_LLApL5",
        "colab_type": "text"
      },
      "source": [
        "### Question 1.1 [10]\n",
        "\n",
        "Using `sentiment_so`, compute the coefficients of all `ordered_words` and show the 10 most positive and 10 most negative words."
      ]
    },
    {
      "cell_type": "code",
      "metadata": {
        "id": "YfoU5w4lD1Gb",
        "colab_type": "code",
        "colab": {}
      },
      "source": [
        "coefficient_history = []\n",
        "for word in ordered_words:\n",
        "  coefficient = sentiment_so.determine_coefficient(word)\n",
        "  coefficient_history.append(coefficient)\n"
      ],
      "execution_count": 0,
      "outputs": []
    },
    {
      "cell_type": "code",
      "metadata": {
        "id": "FBncZl8gEi4X",
        "colab_type": "code",
        "outputId": "6818f31f-4aae-465f-a3b5-f8a9b72042ce",
        "colab": {
          "base_uri": "https://localhost:8080/",
          "height": 442
        }
      },
      "source": [
        "coeff = pd.DataFrame(list(zip(ordered_words, coefficient_history)), columns=['word', 'coefficient'])\n",
        "positive_words = coeff[coeff.coefficient > 0].sort_values(by='coefficient', ascending=False)\n",
        "print('positive word examples:')\n",
        "print(positive_words[:10])\n",
        "negative_words = coeff[coeff.coefficient < 0].sort_values(by='coefficient', ascending=True)\n",
        "print('\\nnegetive word example:')\n",
        "print(negative_words[:10])"
      ],
      "execution_count": 33,
      "outputs": [
        {
          "output_type": "stream",
          "text": [
            "positive word examples:\n",
            "           word  coefficient\n",
            "2410     golden     0.332636\n",
            "3067  alongside     0.322001\n",
            "8884      famed     0.317862\n",
            "1060      award     0.315711\n",
            "564       named     0.312229\n",
            "6414    pioneer     0.310568\n",
            "753        star     0.306124\n",
            "5838      eagle     0.305612\n",
            "5188    diamond     0.304883\n",
            "2334     master     0.304087\n",
            "\n",
            "negetive word example:\n",
            "                word  coefficient\n",
            "41568        deplore    -0.356517\n",
            "21304       inaction    -0.352449\n",
            "47555      mongering    -0.342252\n",
            "40460     cautioning    -0.339960\n",
            "39405    inexcusable    -0.329084\n",
            "43084    malfeasance    -0.323151\n",
            "49426      avoidable    -0.322462\n",
            "36919      complicit    -0.322153\n",
            "45393   profiteering    -0.312473\n",
            "45621  unjustifiable    -0.312373\n"
          ],
          "name": "stdout"
        }
      ]
    },
    {
      "cell_type": "markdown",
      "metadata": {
        "id": "G7x_GhEge_Ph",
        "colab_type": "text"
      },
      "source": [
        "### Question 1.2 [30]\n",
        "\n",
        "1. Create another `SemanticOrientation` object with a different set of contrasting \"positive\" and \"negative\" categories that are unrelated to sentiment (e.g solids vs. liquids, living things vs objects) and corresponding seed words. Have at least 5 words per category.\n",
        "2. Pick another 5 words in either category and show their coefficients. Display them using the plotting code from above.\n",
        "3. Using `ordered_words`, show the 10 most positive and 10 most \"negative\" words.\n",
        "4. Pick 2 words that are unrelated to either category, compute their coefficients, and comment on them."
      ]
    },
    {
      "cell_type": "code",
      "metadata": {
        "id": "VsQhgLeae_Pi",
        "colab_type": "code",
        "colab": {}
      },
      "source": [
        "# unrelated to sentiment positive & negetive words\n",
        "pos_word = ['land', 'single', 'day', 'children', 'far']\n",
        "neg_word = ['water', 'couple', 'night', 'adult', 'near']\n",
        "\n",
        "sentiment_less = SemanticOrientation(\n",
        "    seed_pos=pos_word,\n",
        "    seed_neg=neg_word,\n",
        ")"
      ],
      "execution_count": 0,
      "outputs": []
    },
    {
      "cell_type": "code",
      "metadata": {
        "id": "v7iY7V5qyxwg",
        "colab_type": "code",
        "outputId": "bd5b476e-2265-427a-a238-0de76935ad82",
        "colab": {
          "base_uri": "https://localhost:8080/",
          "height": 367
        }
      },
      "source": [
        "test_word = ['shore','spouse', 'noon', 'teenager', 'distant']\n",
        "\n",
        "for word in test_word:\n",
        "  coefficient = sentiment_less.determine_coefficient(word)\n",
        "  print('word:{}, coefficient:{}'.format(word, coefficient))\n",
        "print('')\n",
        "plot_semantic_orientation(\n",
        "    semantic_orientation=sentiment_less, \n",
        "    words=test_word,\n",
        ")"
      ],
      "execution_count": 46,
      "outputs": [
        {
          "output_type": "stream",
          "text": [
            "word:shore, coefficient:-0.0207155267643907\n",
            "word:spouse, coefficient:0.06946980330888228\n",
            "word:noon, coefficient:-0.07333717955780988\n",
            "word:teenager, coefficient:-0.041865776337625116\n",
            "word:distant, coefficient:0.02763805729224339\n",
            "\n"
          ],
          "name": "stdout"
        },
        {
          "output_type": "display_data",
          "data": {
            "image/png": "[encoded data removed]",
            "text/plain": [
              "<Figure size 576x288 with 1 Axes>"
            ]
          },
          "metadata": {
            "tags": []
          }
        }
      ]
    },
    {
      "cell_type": "code",
      "metadata": {
        "id": "Ivbz1A939siC",
        "colab_type": "code",
        "colab": {}
      },
      "source": [
        "coefficient_sentless_history = []\n",
        "for word in ordered_words:\n",
        "  coefficient = sentiment_less.determine_coefficient(word)\n",
        "  coefficient_sentless_history.append(coefficient)\n"
      ],
      "execution_count": 0,
      "outputs": []
    },
    {
      "cell_type": "code",
      "metadata": {
        "id": "TFtjpAds9sxV",
        "colab_type": "code",
        "outputId": "4dfa5eb3-9f4b-4c66-dc87-50c8e9422810",
        "colab": {
          "base_uri": "https://localhost:8080/",
          "height": 442
        }
      },
      "source": [
        "coeff_ = pd.DataFrame(list(zip(ordered_words, coefficient_sentless_history)), columns=['word', 'coefficient'])\n",
        "positive_words = coeff[coeff_.coefficient > 0].sort_values(by='coefficient', ascending=False)\n",
        "print('positive word examples:')\n",
        "print(positive_words[:10])\n",
        "negative_words = coeff[coeff_.coefficient < 0].sort_values(by='coefficient', ascending=True)\n",
        "print('\\nnegetive word example:')\n",
        "print(negative_words[:10])"
      ],
      "execution_count": 48,
      "outputs": [
        {
          "output_type": "stream",
          "text": [
            "positive word examples:\n",
            "            word  coefficient\n",
            "3067   alongside     0.322001\n",
            "1060       award     0.315711\n",
            "564        named     0.312229\n",
            "6414     pioneer     0.310568\n",
            "753         star     0.306124\n",
            "5838       eagle     0.305612\n",
            "5188     diamond     0.304883\n",
            "2334      master     0.304087\n",
            "13545       dove     0.300022\n",
            "6674    renowned     0.298584\n",
            "\n",
            "negetive word example:\n",
            "                  word  coefficient\n",
            "47555        mongering    -0.342252\n",
            "45393     profiteering    -0.312473\n",
            "49796       uninformed    -0.309671\n",
            "41839          purging    -0.308225\n",
            "31816   misinformation    -0.306073\n",
            "42304      drunkenness    -0.304175\n",
            "18381        vandalism    -0.297087\n",
            "39433       homophobic    -0.294772\n",
            "31375          inflame    -0.294373\n",
            "49365  insubordination    -0.292735\n"
          ],
          "name": "stdout"
        }
      ]
    },
    {
      "cell_type": "markdown",
      "metadata": {
        "id": "zO1b81u3hx4V",
        "colab_type": "text"
      },
      "source": [
        "'diamond' has appeared to have a high positive value in both semantic orientation case probably because the seed word number is not large enough to impact the positive intrinsic value in 'diamond'.\n",
        "'drunkenness' has a robust negative tendency, probably because in the negative seed, 'adult' are more likely to have alcoholism. Alcohol might play a big part in an unhappy marriage, which correspond to the other negative seed 'couple'."
      ]
    },
    {
      "cell_type": "markdown",
      "metadata": {
        "id": "CxO7owlte_Py",
        "colab_type": "text"
      },
      "source": [
        "# Part 2: Exploring effect of context size [60 pts]"
      ]
    },
    {
      "cell_type": "markdown",
      "metadata": {
        "id": "qaVVYaUbe_P0",
        "colab_type": "text"
      },
      "source": [
        "Let's take a step back and assume we are creating word embeddings from scratch.\n",
        "\n",
        "We face many implicit and explicit design decisions in creating distributional word representations. In lecture, we discussed creating vectors using a co-occurence matrix built on neighboring pairs of words. We might suspect, however, that we can get more signal of word similarity by considering larger contexts than pairs of words."
      ]
    },
    {
      "cell_type": "markdown",
      "metadata": {
        "id": "Vpwg6x8xs9bP",
        "colab_type": "text"
      },
      "source": [
        "We're going to download two files:\n",
        "\n",
        "1. `sst.txt`, a list of sentences from the [Stanford Sentiment Treebank](https://nlp.stanford.edu/sentiment/treebank.html).\n",
        "2. `MTURK-771.csv`, a [word-relatedness dataset](http://www2.mta.ac.il/~gideon/mturk771.html)."
      ]
    },
    {
      "cell_type": "code",
      "metadata": {
        "id": "7kE54j3Hs98q",
        "colab_type": "code",
        "outputId": "ceaf63e0-37fc-4477-fe7a-95de588b2722",
        "colab": {
          "base_uri": "https://localhost:8080/",
          "height": 513
        }
      },
      "source": [
        "!wget https://docs.google.com/uc?id=1uDpAm-eoZx-kS7UAPELfH0gGAxekkDVd -O sst.txt\n",
        "!wget http://www2.mta.ac.il/~gideon/datasets/MTURK-771.csv -O MTURK-771.csv"
      ],
      "execution_count": 39,
      "outputs": [
        {
          "output_type": "stream",
          "text": [
            "--2020-02-26 05:09:21--  https://docs.google.com/uc?id=1uDpAm-eoZx-kS7UAPELfH0gGAxekkDVd\n",
            "Resolving docs.google.com (docs.google.com)... 173.194.202.102, 173.194.202.138, 173.194.202.100, ...\n",
            "Connecting to docs.google.com (docs.google.com)|173.194.202.102|:443... connected.\n",
            "HTTP request sent, awaiting response... 302 Moved Temporarily\n",
            "Location: https://doc-00-0g-docs.googleusercontent.com/docs/securesc/ha0ro937gcuc7l7deffksulhg5h7mbp1/5382u2io74a5somc4q66ll3tkfv64n8e/1582693200000/14514704803973256873/*/1uDpAm-eoZx-kS7UAPELfH0gGAxekkDVd [following]\n",
            "Warning: wildcards not supported in HTTP.\n",
            "--2020-02-26 05:09:23--  https://doc-00-0g-docs.googleusercontent.com/docs/securesc/ha0ro937gcuc7l7deffksulhg5h7mbp1/5382u2io74a5somc4q66ll3tkfv64n8e/1582693200000/14514704803973256873/*/1uDpAm-eoZx-kS7UAPELfH0gGAxekkDVd\n",
            "Resolving doc-00-0g-docs.googleusercontent.com (doc-00-0g-docs.googleusercontent.com)... 74.125.195.132, 2607:f8b0:400e:c09::84\n",
            "Connecting to doc-00-0g-docs.googleusercontent.com (doc-00-0g-docs.googleusercontent.com)|74.125.195.132|:443... connected.\n",
            "HTTP request sent, awaiting response... 200 OK\n",
            "Length: 1290263 (1.2M) [text/plain]\n",
            "Saving to: ‘sst.txt’\n",
            "\n",
            "sst.txt             100%[===================>]   1.23M  --.-KB/s    in 0.01s   \n",
            "\n",
            "2020-02-26 05:09:23 (126 MB/s) - ‘sst.txt’ saved [1290263/1290263]\n",
            "\n",
            "--2020-02-26 05:09:24--  http://www2.mta.ac.il/~gideon/datasets/MTURK-771.csv\n",
            "Resolving www2.mta.ac.il (www2.mta.ac.il)... 192.116.64.52\n",
            "Connecting to www2.mta.ac.il (www2.mta.ac.il)|192.116.64.52|:80... connected.\n",
            "HTTP request sent, awaiting response... 200 OK\n",
            "Length: 19629 (19K) [text/csv]\n",
            "Saving to: ‘MTURK-771.csv’\n",
            "\n",
            "MTURK-771.csv       100%[===================>]  19.17K  94.4KB/s    in 0.2s    \n",
            "\n",
            "2020-02-26 05:09:25 (94.4 KB/s) - ‘MTURK-771.csv’ saved [19629/19629]\n",
            "\n"
          ],
          "name": "stdout"
        }
      ]
    },
    {
      "cell_type": "code",
      "metadata": {
        "id": "aUXiGZ1Ie_P3",
        "colab_type": "code",
        "colab": {}
      },
      "source": [
        "mturk_path = \"./MTURK-771.csv\"\n",
        "sst_path = \"./sst.txt\""
      ],
      "execution_count": 0,
      "outputs": []
    },
    {
      "cell_type": "markdown",
      "metadata": {
        "id": "mqh5wfjHNb91",
        "colab_type": "text"
      },
      "source": [
        "First, we will load the SST data."
      ]
    },
    {
      "cell_type": "code",
      "metadata": {
        "id": "cM4zMwY9NaPp",
        "colab_type": "code",
        "outputId": "00bc8c1d-c43c-4e50-b998-adccd29d23b1",
        "colab": {
          "base_uri": "https://localhost:8080/",
          "height": 66,
          "referenced_widgets": [
            "21d1ca181adc4ee7a64f8a1745f67e3e",
            "41d7cfc9a9cf408aa1a93b60f0b9127b",
            "f4188e6886494b1c91158fe29a40fa4c",
            "679b811e14e14a679d58d33268e04ab0",
            "62faa64db2db4e3aab896083d95d24af",
            "f1d917171df24ff68f0626e2b5c6b696",
            "9bf81ec39ff24425b319fb4523cc19d0",
            "ec95ee402da14f2ebd0bd957923d1077"
          ]
        }
      },
      "source": [
        "def load_sst(sst_path):\n",
        "    tokenizer = sacremoses.MosesTokenizer()\n",
        "    results = []\n",
        "    for line in tqdm.tqdm_notebook(pd.read_csv(sst_path, sep=\"\\t\")[\"sentence\"].values):\n",
        "        results.append(tokenizer.tokenize(line))\n",
        "    return results\n",
        "data = load_sst(sst_path)"
      ],
      "execution_count": 41,
      "outputs": [
        {
          "output_type": "display_data",
          "data": {
            "application/vnd.jupyter.widget-view+json": {
              "model_id": "21d1ca181adc4ee7a64f8a1745f67e3e",
              "version_minor": 0,
              "version_major": 2
            },
            "text/plain": [
              "HBox(children=(IntProgress(value=0, max=11855), HTML(value='')))"
            ]
          },
          "metadata": {
            "tags": []
          }
        },
        {
          "output_type": "stream",
          "text": [
            "\n"
          ],
          "name": "stdout"
        }
      ]
    },
    {
      "cell_type": "markdown",
      "metadata": {
        "id": "B4ncGmpye_P1",
        "colab_type": "text"
      },
      "source": [
        "### Question 2.1 [45]\n",
        "\n",
        "Implement:\n",
        "* `get_token_frequencies_and_cooccurrences`\n",
        "* `prune_vocabulary`\n",
        "* `build_cooccurrence_mat_from_counts`\n",
        "\n",
        "Each of these will be used in  `build_cooccurrence_matrix`, which generates the co-occurence matrix for a window of arbitrary size and for the vocabulary of `max_vocab_size` most frequent words. "
      ]
    },
    {
      "cell_type": "code",
      "metadata": {
        "id": "nGMhTNM5NM5j",
        "colab_type": "code",
        "colab": {}
      },
      "source": [
        "def build_cooccurrence_matrix(data, max_vocab_size=20000, context_size=2, verbose=True):\n",
        "    \"\"\" \n",
        "    args:\n",
        "        - data: iterable where each item is a string sentence\n",
        "        - max_vocab_size: maximum vocabulary size\n",
        "        \n",
        "    returns:\n",
        "        - coocur_mat: co-occurrence matrix as a numpy array\n",
        "    \"\"\"\n",
        "    if verbose:\n",
        "        print(\"Counting words...\")\n",
        "    start_time = time.time()\n",
        "    tok2freq, cooccur_counts = get_token_frequencies_and_cooccurrences(data, context_size)\n",
        "    if verbose:\n",
        "        print(\"\\tFinished counting %d words in %.5f\" % (len(tok2freq), time.time() - start_time))\n",
        "        print(\"Pruning vocabulary...\")\n",
        "    tok2idx, idx2tok = prune_vocabulary(tok2freq, max_vocab_size)\n",
        "    start_time = time.time()\n",
        "    if verbose:\n",
        "        print(\"\\tFinished pruning vocabulary to %d words in %.5f\" % (len(tok2idx), time.time() - start_time))\n",
        "        print(\"Building co-occurrence matrix...\")\n",
        "    start_time = time.time()\n",
        "    cooccur_mat = build_cooccurrence_mat_from_counts(idx2tok, cooccur_counts)\n",
        "    if verbose:\n",
        "        print(\"\\tFinished building co-occurrence matrix in %.5f\" % (time.time() - start_time))\n",
        "    return cooccur_mat, tok2idx, idx2tok, cooccur_counts"
      ],
      "execution_count": 0,
      "outputs": []
    },
    {
      "cell_type": "code",
      "metadata": {
        "colab_type": "code",
        "id": "ai5pnuntGjFz",
        "colab": {}
      },
      "source": [
        "from collections import defaultdict\n",
        "\n",
        "def get_token_frequencies_and_cooccurrences(data, context_size):\n",
        "    \"\"\" \n",
        "    Compute token frequencies and cooccurrences from data\n",
        "\n",
        "    args: \n",
        "        - data: a list of list of words (or tokens)\n",
        "        - context_size: the vocabulary size to prune to\n",
        "    \n",
        "    return:\n",
        "        A tuple containing:\n",
        "        - tok2freq: a dictionary mapping from words to count\n",
        "        - cooccur_counts: a dictionary of dictionaries, where\n",
        "\n",
        "              cooccur_counts[word1][word2]\n",
        "\n",
        "          is how often word1 cooccurs with word2 within a given context_size\n",
        "    \"\"\"\n",
        "    tok2freq = defaultdict(int)\n",
        "    cooccur_counts = defaultdict(lambda: defaultdict(int))\n",
        "    origin = (context_size + 1) // 2\n",
        "\n",
        "\n",
        "    for datum in data:\n",
        "        for i, tok in enumerate(datum):\n",
        "            tok2freq[tok] += 1\n",
        "            for k in range(1, context_size + 1):\n",
        "              # prevent the list index out of range\n",
        "              index = i + k\n",
        "              if not ((index < 0) or (index >= len(datum))):\n",
        "                cooccur_counts[datum[i]][datum[index]] += 1\n",
        "              index = i - k\n",
        "              if not ((index < 0) or (index >= len(datum))):\n",
        "                cooccur_counts[datum[i]][datum[index]] += 1\n",
        "\n",
        "    return tok2freq, cooccur_counts\n",
        "\n",
        "def prune_vocabulary(tok2freq, max_vocab_size):\n",
        "    \"\"\" \n",
        "    Prune vocab by taking max_vocab_size most frequent words \n",
        "\n",
        "    args: \n",
        "        - tok2freq: a dictionary mapping from words to count\n",
        "        - max_vocab_size: the vocabulary size to prune to\n",
        "    \n",
        "    return:\n",
        "        A tuple containing:\n",
        "        - tok2idx: a dictionary mapping from words to the index in idx2tok\n",
        "        - idx2tok: a list of words (the vocabulary), of length max_vocab_size\n",
        "    \"\"\"\n",
        "    idx2tok = []\n",
        "    tok2idx = {}\n",
        "    tok_and_freqs = [(k, v) for k, v in tok2freq.items()]\n",
        "\n",
        "\n",
        "    # sort tok_and_freqs decreamenting\n",
        "    tok_and_freqs.sort(key=lambda x: x[1], reverse=True)\n",
        "    tok_and_freqs = tok_and_freqs[:max_vocab_size]\n",
        "    # print(tok_and_freqs)\n",
        "    for i in range(len(tok_and_freqs)):\n",
        "      idx2tok.append(tok_and_freqs[i][0])\n",
        "\n",
        "    # prune \n",
        "    idx2tok = idx2tok[:max_vocab_size]\n",
        "\n",
        "    # dictionary mapping \n",
        "    for i in range(len(idx2tok)):\n",
        "      tok2idx[idx2tok[i]] = i\n",
        "\n",
        "\n",
        "    return tok2idx, idx2tok\n",
        "\n",
        "def build_cooccurrence_mat_from_counts(idx2tok, cooccur_counts):\n",
        "    \"\"\" Build a cooccurrence matrix from counts and a vocab\n",
        "    args:\n",
        "        - idx2tok: a list of words (the vocabulary), of length N\n",
        "        - cooccur_counts: a dictionary of dictionaries, where\n",
        "\n",
        "              cooccur_counts[word1][word2]\n",
        "\n",
        "          is how often word1 cooccurs with word2\n",
        "    return:\n",
        "        - mat: an NxN matrix (symmetric) of the occurrence counts of the\n",
        "               words in idx2tok\n",
        "    \"\"\"\n",
        "    vocab_size = len(idx2tok)\n",
        "    mat = np.zeros([vocab_size, vocab_size])\n",
        "    for i in tqdm.tqdm_notebook(range(vocab_size)):\n",
        "        for j in range(i, vocab_size):\n",
        "          mat[i][j] = cooccur_counts[idx2tok[i]][idx2tok[j]]\n",
        "          mat[j][i] = cooccur_counts[idx2tok[j]][idx2tok[i]]\n",
        "\n",
        "    return mat"
      ],
      "execution_count": 0,
      "outputs": []
    },
    {
      "cell_type": "markdown",
      "metadata": {
        "id": "LfImY8VcNl5z",
        "colab_type": "text"
      },
      "source": [
        "Let's build a cooccurrence matrix with `context_size=2`."
      ]
    },
    {
      "cell_type": "code",
      "metadata": {
        "id": "oaIAY8oTEXLP",
        "colab_type": "code",
        "outputId": "198e9c63-23ad-44c1-fd90-ade797f8b1c2",
        "colab": {
          "base_uri": "https://localhost:8080/",
          "height": 168,
          "referenced_widgets": [
            "cfbfc6c535494a2dbaac9be5824cd5d6",
            "9628bb437ca94535bb31c5588ea0a17a",
            "e09eeb3896ca4ba1827527253618a148",
            "7cf1db2644dd47d9bf6c23bbe500956f",
            "6f4affa4966a4ab5af1ce4a799038fef",
            "4b462118b112456db1f114b6fc59718e",
            "3bceda245ea0483ca2369448a30d59b7",
            "27b811ee2772415dae0f72acd224e60e"
          ]
        }
      },
      "source": [
        "mat, tok2idx, idx2tok, _ = build_cooccurrence_matrix(data, max_vocab_size=10000, context_size=2)"
      ],
      "execution_count": 44,
      "outputs": [
        {
          "output_type": "stream",
          "text": [
            "Counting words...\n",
            "\tFinished counting 21669 words in 0.64754\n",
            "Pruning vocabulary...\n",
            "\tFinished pruning vocabulary to 10000 words in 0.00000\n",
            "Building co-occurrence matrix...\n"
          ],
          "name": "stdout"
        },
        {
          "output_type": "display_data",
          "data": {
            "application/vnd.jupyter.widget-view+json": {
              "model_id": "cfbfc6c535494a2dbaac9be5824cd5d6",
              "version_minor": 0,
              "version_major": 2
            },
            "text/plain": [
              "HBox(children=(IntProgress(value=0, max=10000), HTML(value='')))"
            ]
          },
          "metadata": {
            "tags": []
          }
        },
        {
          "output_type": "stream",
          "text": [
            "\n",
            "\tFinished building co-occurrence matrix in 112.78556\n"
          ],
          "name": "stdout"
        }
      ]
    },
    {
      "cell_type": "code",
      "metadata": {
        "id": "aNe_CAgre_QK",
        "colab_type": "code",
        "colab": {
          "base_uri": "https://localhost:8080/",
          "height": 34
        },
        "outputId": "fb0aad8a-6943-4c38-fedd-7faecb7811b4"
      },
      "source": [
        "tok1 = \"the\"\n",
        "tok2 = \"end\"\n",
        "print(\"'{}' and '{}' co-occur {} times\".format(tok1, tok2, mat[tok2idx[tok1]][tok2idx[tok2]]))"
      ],
      "execution_count": 45,
      "outputs": [
        {
          "output_type": "stream",
          "text": [
            "'the' and 'end' co-occur 98.0 times\n"
          ],
          "name": "stdout"
        }
      ]
    },
    {
      "cell_type": "markdown",
      "metadata": {
        "id": "h_iprP4ve_QQ",
        "colab_type": "text"
      },
      "source": [
        "### Question 2.2 [15]\n",
        "\n",
        "We are going to evaluate the effect of varying context size in $\\{1, 2, 3, 4\\}$ (leaving all the other settings the same) on the quality of the learned word embeddings, as measured by performance (Spearman correlation) on the word similarity dataset [MTurk-771](http://www2.mta.ac.il/~gideon/mturk771.html) between human judgments and cosine similarity of the learned word vectors (the coccurrence matrices).\n",
        "\n",
        "In this exercise, you will fill in parts of the code in the `evaluate_word_similarity` function. (Hint: make use of the imports we include at the top of the code block; the solution should be pretty short!)"
      ]
    },
    {
      "cell_type": "code",
      "metadata": {
        "id": "ktX17VQ9MjCH",
        "colab_type": "code",
        "colab": {}
      },
      "source": [
        "# Hint: some helpful imports!\n",
        "from scipy.stats import spearmanr\n",
        "from numpy.linalg import norm\n",
        "from sklearn.metrics.pairwise import cosine_similarity\n",
        "\n",
        "\n",
        "def load_word_similarity_dataset(data_file):\n",
        "    mturk_df = pd.read_csv(mturk_path, names=[\"word1\", \"word2\", \"similarity\"])\n",
        "    return mturk_df\n",
        "\n",
        "\n",
        "def evaluate_word_similarity(mturk_df, mat, tok2idx):\n",
        "    \"\"\" Evaluate the word embeddings by comparing the word similarities \n",
        "        to the word similarity scores from the MTurk-771 data.\n",
        "    Notes:\n",
        "        - In some cases, the words in the MTurk-771 data may not appear in \n",
        "          our vocabulary. In those cases, we will simpy skip over those\n",
        "          MTurk-771 examples.\n",
        "        - Use cosine_similarity to compute word similarities, and use\n",
        "          spearmanr to compute the overall rank correlation.\n",
        "\n",
        "    args:\n",
        "        - mturk_df: DataFrame of MTurk-711 data\n",
        "        - mat: cooccurrence matrix computed from above. These will serve as \n",
        "               our word embeddings.\n",
        "        - idx2tok: a list of words (the vocabulary), of length N\n",
        "\n",
        "    return:\n",
        "        - rho: the rank correlation between the predicted word similarities\n",
        "               and the ground truth word similarities from MTurk-771\n",
        "    \"\"\"\n",
        "    preds = []\n",
        "    trgs = []\n",
        "    n_exs = 0\n",
        "    for row in mturk_df.itertuples():\n",
        "        if row.word1 in tok2idx and row.word2 in tok2idx:\n",
        "            word1_emb = mat[tok2idx[row.word1]]\n",
        "            word2_emb = mat[tok2idx[row.word2]]\n",
        "\n",
        "            # calculate the cosine similarity\n",
        "            pred_sim = np.dot(word1_emb, word2_emb) / (norm(word1_emb) * norm(word2_emb))\n",
        "            preds.append(pred_sim)\n",
        "            trgs.append(row.similarity)\n",
        "            n_exs += 1\n",
        "\n",
        "    rho = spearmanr(preds, trgs).correlation\n",
        "\n",
        "    print(\"Evaluated on %d of %d examples\" % (n_exs, len(mturk_df)))\n",
        "    return rho"
      ],
      "execution_count": 0,
      "outputs": []
    },
    {
      "cell_type": "code",
      "metadata": {
        "id": "B2dhMcLh3-rj",
        "colab_type": "code",
        "colab": {}
      },
      "source": [
        ""
      ],
      "execution_count": 0,
      "outputs": []
    },
    {
      "cell_type": "code",
      "metadata": {
        "id": "esrjaweEy1kK",
        "colab_type": "code",
        "colab": {
          "base_uri": "https://localhost:8080/",
          "height": 168,
          "referenced_widgets": [
            "585a4b64a82c47338c545a9e2d266c59",
            "da65483fe6784ec2bfbdc76c91300f00",
            "1cfed9b9ec0742c69f3f2497bba4b4ed",
            "0064bba611874f33a40e14fd37fd392c",
            "6d8b89f5f8f8429e9a4eed0442e7438f",
            "f33a6156aa5b4b18af6c7ef0074066ee",
            "751ffd404e2a4da28a09aca3fc27ce4a",
            "021871eb41024267add3b4ce0ae85451"
          ]
        },
        "outputId": "facc61b5-d2ab-4fa2-a055-58cf2a6c0971"
      },
      "source": [
        "mturk_df = load_word_similarity_dataset(mturk_path)\n",
        "mat, tok2idx, idx2tok, _ = build_cooccurrence_matrix(data, max_vocab_size=10000, context_size=2)\n",
        "preds = []\n",
        "trgs = []\n",
        "n_exs = 0\n",
        "for row in mturk_df.itertuples():\n",
        "    if row.word1 in tok2idx and row.word2 in tok2idx:\n",
        "        word1_emb = mat[tok2idx[row.word1]]\n",
        "        word2_emb = mat[tok2idx[row.word2]]\n",
        "\n",
        "        # calculate the cosine similarity\n",
        "        pred_sim = np.dot(word1_emb, word2_emb) / (norm(word1_emb) * norm(word2_emb))\n",
        "        preds.append(pred_sim)\n",
        "        trgs.append(row.similarity)\n",
        "        n_exs += 1\n",
        "\n",
        "rho = spearmanr(preds, trgs).correlation\n",
        "print(rho)"
      ],
      "execution_count": 49,
      "outputs": [
        {
          "output_type": "stream",
          "text": [
            "Counting words...\n",
            "\tFinished counting 21669 words in 0.62204\n",
            "Pruning vocabulary...\n",
            "\tFinished pruning vocabulary to 10000 words in 0.00000\n",
            "Building co-occurrence matrix...\n"
          ],
          "name": "stdout"
        },
        {
          "output_type": "display_data",
          "data": {
            "application/vnd.jupyter.widget-view+json": {
              "model_id": "585a4b64a82c47338c545a9e2d266c59",
              "version_minor": 0,
              "version_major": 2
            },
            "text/plain": [
              "HBox(children=(IntProgress(value=0, max=10000), HTML(value='')))"
            ]
          },
          "metadata": {
            "tags": []
          }
        },
        {
          "output_type": "stream",
          "text": [
            "\tFinished building co-occurrence matrix in 124.20564\n",
            "0.07358230851698687\n"
          ],
          "name": "stdout"
        }
      ]
    },
    {
      "cell_type": "code",
      "metadata": {
        "id": "ksl3dtOhe_QW",
        "colab_type": "code",
        "colab": {
          "base_uri": "https://localhost:8080/",
          "height": 638,
          "referenced_widgets": [
            "c8395e359de04911a53d5709637b2b27",
            "cae9cd592efa446485c63f82735a5fbd",
            "985a8a8d00ec4e009366d329320a11fa",
            "e7d04f66d3f24236ae9fadf7b4158c43",
            "f0e6fb95bec34fbe9a51a72d14b540ea",
            "7f7a1f1e363949df9e0e3221190a04d4",
            "3c9c2e9d1ff24ddd975b9b0f6a2baee5",
            "61ac8cb2b893455281d82cdd5b0f8aaa",
            "93482071d00f4d33a2d721144b05fbe9",
            "fd1578f733014ba0b31a44fce84a3561",
            "252881c2375c460faf3867beba28ccae",
            "080c8d47f1404ceda7dd476cb6b834bd",
            "5d86a27368d7497a9090d00daf3f0abd",
            "d9de1fd506a4496bb53fdf6a797d23d4",
            "ccf4561ce63146308d581f1bfdae1d76",
            "3835484b6a974d4e835f4e31c54664a1",
            "f844812428d34036887280eb9b325ccf",
            "d4edd49a3cc0437a8417a16c2fcfc21d",
            "4becedcd7eb241249f43dc0b06b36e78",
            "b35d63e9cf54418686d700677e572866",
            "7d83bce4e2584708bce07a5c78f44dec",
            "a4abb8d2adf44393bb06ac1db1419577",
            "6d492c33bd9c49efa3a7a29859cbf9b9",
            "461ddae40162457fbc319c0ace901a93",
            "1cde9acf33f74e4eb388b4efcf2a4736",
            "4648669f744c4e26b7caa22686136369",
            "c3d41fa13f90454f853168953813a6e9",
            "06e541aae7ef4adeb60f0cb403f04a28",
            "8b38fae826ef4ab39f7fda442110a540",
            "67a6ee87cb654554bc9080c4212937ce",
            "5192f20062ce4c388f396a8410911336",
            "17f3f1072ba44b199fb4bbe7df0ebc29"
          ]
        },
        "outputId": "67cc3504-9080-40fb-a269-d697ba1ebaac"
      },
      "source": [
        "mturk_df = load_word_similarity_dataset(mturk_path)\n",
        "scores = []\n",
        "context_sizes = [1, 2, 3, 4]\n",
        "for context_size in context_sizes:\n",
        "    mat, tok2idx, idx2tok, _ = build_cooccurrence_matrix(data, max_vocab_size=10000, context_size=context_size)\n",
        "    score = evaluate_word_similarity(mturk_df, mat, tok2idx)\n",
        "    scores.append(score)\n",
        "print(scores)"
      ],
      "execution_count": 51,
      "outputs": [
        {
          "output_type": "stream",
          "text": [
            "Counting words...\n",
            "\tFinished counting 21669 words in 1.49441\n",
            "Pruning vocabulary...\n",
            "\tFinished pruning vocabulary to 10000 words in 0.00000\n",
            "Building co-occurrence matrix...\n"
          ],
          "name": "stdout"
        },
        {
          "output_type": "display_data",
          "data": {
            "application/vnd.jupyter.widget-view+json": {
              "model_id": "c8395e359de04911a53d5709637b2b27",
              "version_minor": 0,
              "version_major": 2
            },
            "text/plain": [
              "HBox(children=(IntProgress(value=0, max=10000), HTML(value='')))"
            ]
          },
          "metadata": {
            "tags": []
          }
        },
        {
          "output_type": "stream",
          "text": [
            "\tFinished building co-occurrence matrix in 116.63832\n",
            "Evaluated on 249 of 771 examples\n",
            "Counting words...\n",
            "\tFinished counting 21669 words in 0.58203\n",
            "Pruning vocabulary...\n",
            "\tFinished pruning vocabulary to 10000 words in 0.00000\n",
            "Building co-occurrence matrix...\n"
          ],
          "name": "stdout"
        },
        {
          "output_type": "display_data",
          "data": {
            "application/vnd.jupyter.widget-view+json": {
              "model_id": "93482071d00f4d33a2d721144b05fbe9",
              "version_minor": 0,
              "version_major": 2
            },
            "text/plain": [
              "HBox(children=(IntProgress(value=0, max=10000), HTML(value='')))"
            ]
          },
          "metadata": {
            "tags": []
          }
        },
        {
          "output_type": "stream",
          "text": [
            "\tFinished building co-occurrence matrix in 113.80008\n",
            "Evaluated on 249 of 771 examples\n",
            "Counting words...\n",
            "\tFinished counting 21669 words in 0.77083\n",
            "Pruning vocabulary...\n",
            "\tFinished pruning vocabulary to 10000 words in 0.00000\n",
            "Building co-occurrence matrix...\n"
          ],
          "name": "stdout"
        },
        {
          "output_type": "display_data",
          "data": {
            "application/vnd.jupyter.widget-view+json": {
              "model_id": "f844812428d34036887280eb9b325ccf",
              "version_minor": 0,
              "version_major": 2
            },
            "text/plain": [
              "HBox(children=(IntProgress(value=0, max=10000), HTML(value='')))"
            ]
          },
          "metadata": {
            "tags": []
          }
        },
        {
          "output_type": "stream",
          "text": [
            "\tFinished building co-occurrence matrix in 102.16679\n",
            "Evaluated on 249 of 771 examples\n",
            "Counting words...\n",
            "\tFinished counting 21669 words in 1.82166\n",
            "Pruning vocabulary...\n",
            "\tFinished pruning vocabulary to 10000 words in 0.00000\n",
            "Building co-occurrence matrix...\n"
          ],
          "name": "stdout"
        },
        {
          "output_type": "display_data",
          "data": {
            "application/vnd.jupyter.widget-view+json": {
              "model_id": "1cde9acf33f74e4eb388b4efcf2a4736",
              "version_minor": 0,
              "version_major": 2
            },
            "text/plain": [
              "HBox(children=(IntProgress(value=0, max=10000), HTML(value='')))"
            ]
          },
          "metadata": {
            "tags": []
          }
        },
        {
          "output_type": "stream",
          "text": [
            "\tFinished building co-occurrence matrix in 113.89685\n",
            "Evaluated on 249 of 771 examples\n",
            "[0.02531809648937025, 0.07358230851698687, 0.08946722939641724, 0.08063353283123234]\n"
          ],
          "name": "stdout"
        }
      ]
    },
    {
      "cell_type": "code",
      "metadata": {
        "id": "LHOxuRuYBioi",
        "colab_type": "code",
        "colab": {
          "base_uri": "https://localhost:8080/",
          "height": 34
        },
        "outputId": "01ca9019-a464-4234-fb94-97622950c83e"
      },
      "source": [
        "score = evaluate_word_similarity(mturk_df, mat, tok2idx)"
      ],
      "execution_count": 52,
      "outputs": [
        {
          "output_type": "stream",
          "text": [
            "Evaluated on 249 of 771 examples\n"
          ],
          "name": "stdout"
        }
      ]
    },
    {
      "cell_type": "code",
      "metadata": {
        "id": "m7ZMgciye_Qa",
        "colab_type": "code",
        "colab": {
          "base_uri": "https://localhost:8080/",
          "height": 296
        },
        "outputId": "7833c3b2-7231-433d-f8c9-92d99c8f739c"
      },
      "source": [
        "plt.plot(context_sizes, scores, marker='o')\n",
        "plt.xlabel(\"Context size\")\n",
        "plt.ylabel(\"Word similarity correlation\")"
      ],
      "execution_count": 53,
      "outputs": [
        {
          "output_type": "execute_result",
          "data": {
            "text/plain": [
              "Text(0, 0.5, 'Word similarity correlation')"
            ]
          },
          "metadata": {
            "tags": []
          },
          "execution_count": 53
        },
        {
          "output_type": "display_data",
          "data": {
            "image/png": "[encoded data removed]",
            "text/plain": [
              "<Figure size 432x288 with 1 Axes>"
            ]
          },
          "metadata": {
            "tags": []
          }
        }
      ]
    },
    {
      "cell_type": "code",
      "metadata": {
        "id": "JvvTXLbne_Qf",
        "colab_type": "code",
        "colab": {}
      },
      "source": [
        ""
      ],
      "execution_count": 0,
      "outputs": []
    }
  ]
}